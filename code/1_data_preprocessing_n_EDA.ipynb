{
 "cells": [
  {
   "cell_type": "markdown",
   "metadata": {},
   "source": [
    "# Data Preprocessing & EDA\n"
   ]
  },
  {
   "cell_type": "markdown",
   "metadata": {},
   "source": [
    "## Preparing Library & Dataset"
   ]
  },
  {
   "cell_type": "code",
   "execution_count": 1,
   "metadata": {
    "execution": {
     "iopub.execute_input": "2024-12-25T06:29:56.133075Z",
     "iopub.status.busy": "2024-12-25T06:29:56.132607Z",
     "iopub.status.idle": "2024-12-25T06:30:08.578228Z",
     "shell.execute_reply": "2024-12-25T06:30:08.576849Z",
     "shell.execute_reply.started": "2024-12-25T06:29:56.133018Z"
    },
    "trusted": true
   },
   "outputs": [
    {
     "name": "stdout",
     "output_type": "stream",
     "text": [
      "Collecting contractions\n",
      "  Downloading contractions-0.1.73-py2.py3-none-any.whl.metadata (1.2 kB)\n",
      "Collecting textsearch>=0.0.21 (from contractions)\n",
      "  Downloading textsearch-0.0.24-py2.py3-none-any.whl.metadata (1.2 kB)\n",
      "Collecting anyascii (from textsearch>=0.0.21->contractions)\n",
      "  Downloading anyascii-0.3.2-py3-none-any.whl.metadata (1.5 kB)\n",
      "Collecting pyahocorasick (from textsearch>=0.0.21->contractions)\n",
      "  Downloading pyahocorasick-2.1.0-cp310-cp310-manylinux_2_5_x86_64.manylinux1_x86_64.manylinux_2_12_x86_64.manylinux2010_x86_64.whl.metadata (13 kB)\n",
      "Downloading contractions-0.1.73-py2.py3-none-any.whl (8.7 kB)\n",
      "Downloading textsearch-0.0.24-py2.py3-none-any.whl (7.6 kB)\n",
      "Downloading anyascii-0.3.2-py3-none-any.whl (289 kB)\n",
      "\u001b[2K   \u001b[90m━━━━━━━━━━━━━━━━━━━━━━━━━━━━━━━━━━━━━━━━\u001b[0m \u001b[32m289.9/289.9 kB\u001b[0m \u001b[31m6.7 MB/s\u001b[0m eta \u001b[36m0:00:00\u001b[0m:00:01\u001b[0m\n",
      "\u001b[?25hDownloading pyahocorasick-2.1.0-cp310-cp310-manylinux_2_5_x86_64.manylinux1_x86_64.manylinux_2_12_x86_64.manylinux2010_x86_64.whl (110 kB)\n",
      "\u001b[2K   \u001b[90m━━━━━━━━━━━━━━━━━━━━━━━━━━━━━━━━━━━━━━━━\u001b[0m \u001b[32m110.7/110.7 kB\u001b[0m \u001b[31m5.9 MB/s\u001b[0m eta \u001b[36m0:00:00\u001b[0m\n",
      "\u001b[?25hInstalling collected packages: pyahocorasick, anyascii, textsearch, contractions\n",
      "Successfully installed anyascii-0.3.2 contractions-0.1.73 pyahocorasick-2.1.0 textsearch-0.0.24\n"
     ]
    }
   ],
   "source": [
    "!pip install contractions"
   ]
  },
  {
   "cell_type": "code",
   "execution_count": 2,
   "metadata": {
    "execution": {
     "iopub.execute_input": "2024-12-25T06:30:08.580668Z",
     "iopub.status.busy": "2024-12-25T06:30:08.580318Z",
     "iopub.status.idle": "2024-12-25T06:30:25.209413Z",
     "shell.execute_reply": "2024-12-25T06:30:25.207927Z",
     "shell.execute_reply.started": "2024-12-25T06:30:08.580630Z"
    },
    "trusted": true
   },
   "outputs": [
    {
     "name": "stdout",
     "output_type": "stream",
     "text": [
      "Collecting en-core-web-sm==3.7.1\n",
      "  Downloading https://github.com/explosion/spacy-models/releases/download/en_core_web_sm-3.7.1/en_core_web_sm-3.7.1-py3-none-any.whl (12.8 MB)\n",
      "\u001b[2K     \u001b[90m━━━━━━━━━━━━━━━━━━━━━━━━━━━━━━━━━━━━━━━━\u001b[0m \u001b[32m12.8/12.8 MB\u001b[0m \u001b[31m76.9 MB/s\u001b[0m eta \u001b[36m0:00:00\u001b[0m00:01\u001b[0m00:01\u001b[0m\n",
      "\u001b[?25hRequirement already satisfied: spacy<3.8.0,>=3.7.2 in /opt/conda/lib/python3.10/site-packages (from en-core-web-sm==3.7.1) (3.7.6)\n",
      "Requirement already satisfied: spacy-legacy<3.1.0,>=3.0.11 in /opt/conda/lib/python3.10/site-packages (from spacy<3.8.0,>=3.7.2->en-core-web-sm==3.7.1) (3.0.12)\n",
      "Requirement already satisfied: spacy-loggers<2.0.0,>=1.0.0 in /opt/conda/lib/python3.10/site-packages (from spacy<3.8.0,>=3.7.2->en-core-web-sm==3.7.1) (1.0.5)\n",
      "Requirement already satisfied: murmurhash<1.1.0,>=0.28.0 in /opt/conda/lib/python3.10/site-packages (from spacy<3.8.0,>=3.7.2->en-core-web-sm==3.7.1) (1.0.10)\n",
      "Requirement already satisfied: cymem<2.1.0,>=2.0.2 in /opt/conda/lib/python3.10/site-packages (from spacy<3.8.0,>=3.7.2->en-core-web-sm==3.7.1) (2.0.8)\n",
      "Requirement already satisfied: preshed<3.1.0,>=3.0.2 in /opt/conda/lib/python3.10/site-packages (from spacy<3.8.0,>=3.7.2->en-core-web-sm==3.7.1) (3.0.9)\n",
      "Requirement already satisfied: thinc<8.3.0,>=8.2.2 in /opt/conda/lib/python3.10/site-packages (from spacy<3.8.0,>=3.7.2->en-core-web-sm==3.7.1) (8.2.5)\n",
      "Requirement already satisfied: wasabi<1.2.0,>=0.9.1 in /opt/conda/lib/python3.10/site-packages (from spacy<3.8.0,>=3.7.2->en-core-web-sm==3.7.1) (1.1.3)\n",
      "Requirement already satisfied: srsly<3.0.0,>=2.4.3 in /opt/conda/lib/python3.10/site-packages (from spacy<3.8.0,>=3.7.2->en-core-web-sm==3.7.1) (2.4.8)\n",
      "Requirement already satisfied: catalogue<2.1.0,>=2.0.6 in /opt/conda/lib/python3.10/site-packages (from spacy<3.8.0,>=3.7.2->en-core-web-sm==3.7.1) (2.0.10)\n",
      "Requirement already satisfied: weasel<0.5.0,>=0.1.0 in /opt/conda/lib/python3.10/site-packages (from spacy<3.8.0,>=3.7.2->en-core-web-sm==3.7.1) (0.4.1)\n",
      "Requirement already satisfied: typer<1.0.0,>=0.3.0 in /opt/conda/lib/python3.10/site-packages (from spacy<3.8.0,>=3.7.2->en-core-web-sm==3.7.1) (0.12.3)\n",
      "Requirement already satisfied: tqdm<5.0.0,>=4.38.0 in /opt/conda/lib/python3.10/site-packages (from spacy<3.8.0,>=3.7.2->en-core-web-sm==3.7.1) (4.66.4)\n",
      "Requirement already satisfied: requests<3.0.0,>=2.13.0 in /opt/conda/lib/python3.10/site-packages (from spacy<3.8.0,>=3.7.2->en-core-web-sm==3.7.1) (2.32.3)\n",
      "Requirement already satisfied: pydantic!=1.8,!=1.8.1,<3.0.0,>=1.7.4 in /opt/conda/lib/python3.10/site-packages (from spacy<3.8.0,>=3.7.2->en-core-web-sm==3.7.1) (2.9.2)\n",
      "Requirement already satisfied: jinja2 in /opt/conda/lib/python3.10/site-packages (from spacy<3.8.0,>=3.7.2->en-core-web-sm==3.7.1) (3.1.4)\n",
      "Requirement already satisfied: setuptools in /opt/conda/lib/python3.10/site-packages (from spacy<3.8.0,>=3.7.2->en-core-web-sm==3.7.1) (70.0.0)\n",
      "Requirement already satisfied: packaging>=20.0 in /opt/conda/lib/python3.10/site-packages (from spacy<3.8.0,>=3.7.2->en-core-web-sm==3.7.1) (21.3)\n",
      "Requirement already satisfied: langcodes<4.0.0,>=3.2.0 in /opt/conda/lib/python3.10/site-packages (from spacy<3.8.0,>=3.7.2->en-core-web-sm==3.7.1) (3.4.0)\n",
      "Requirement already satisfied: numpy>=1.19.0 in /opt/conda/lib/python3.10/site-packages (from spacy<3.8.0,>=3.7.2->en-core-web-sm==3.7.1) (1.26.4)\n",
      "Requirement already satisfied: language-data>=1.2 in /opt/conda/lib/python3.10/site-packages (from langcodes<4.0.0,>=3.2.0->spacy<3.8.0,>=3.7.2->en-core-web-sm==3.7.1) (1.2.0)\n",
      "Requirement already satisfied: pyparsing!=3.0.5,>=2.0.2 in /opt/conda/lib/python3.10/site-packages (from packaging>=20.0->spacy<3.8.0,>=3.7.2->en-core-web-sm==3.7.1) (3.1.2)\n",
      "Requirement already satisfied: annotated-types>=0.6.0 in /opt/conda/lib/python3.10/site-packages (from pydantic!=1.8,!=1.8.1,<3.0.0,>=1.7.4->spacy<3.8.0,>=3.7.2->en-core-web-sm==3.7.1) (0.7.0)\n",
      "Requirement already satisfied: pydantic-core==2.23.4 in /opt/conda/lib/python3.10/site-packages (from pydantic!=1.8,!=1.8.1,<3.0.0,>=1.7.4->spacy<3.8.0,>=3.7.2->en-core-web-sm==3.7.1) (2.23.4)\n",
      "Requirement already satisfied: typing-extensions>=4.6.1 in /opt/conda/lib/python3.10/site-packages (from pydantic!=1.8,!=1.8.1,<3.0.0,>=1.7.4->spacy<3.8.0,>=3.7.2->en-core-web-sm==3.7.1) (4.12.2)\n",
      "Requirement already satisfied: charset-normalizer<4,>=2 in /opt/conda/lib/python3.10/site-packages (from requests<3.0.0,>=2.13.0->spacy<3.8.0,>=3.7.2->en-core-web-sm==3.7.1) (3.3.2)\n",
      "Requirement already satisfied: idna<4,>=2.5 in /opt/conda/lib/python3.10/site-packages (from requests<3.0.0,>=2.13.0->spacy<3.8.0,>=3.7.2->en-core-web-sm==3.7.1) (3.7)\n",
      "Requirement already satisfied: urllib3<3,>=1.21.1 in /opt/conda/lib/python3.10/site-packages (from requests<3.0.0,>=2.13.0->spacy<3.8.0,>=3.7.2->en-core-web-sm==3.7.1) (1.26.18)\n",
      "Requirement already satisfied: certifi>=2017.4.17 in /opt/conda/lib/python3.10/site-packages (from requests<3.0.0,>=2.13.0->spacy<3.8.0,>=3.7.2->en-core-web-sm==3.7.1) (2024.8.30)\n",
      "Requirement already satisfied: blis<0.8.0,>=0.7.8 in /opt/conda/lib/python3.10/site-packages (from thinc<8.3.0,>=8.2.2->spacy<3.8.0,>=3.7.2->en-core-web-sm==3.7.1) (0.7.11)\n",
      "Requirement already satisfied: confection<1.0.0,>=0.0.1 in /opt/conda/lib/python3.10/site-packages (from thinc<8.3.0,>=8.2.2->spacy<3.8.0,>=3.7.2->en-core-web-sm==3.7.1) (0.1.5)\n",
      "Requirement already satisfied: click>=8.0.0 in /opt/conda/lib/python3.10/site-packages (from typer<1.0.0,>=0.3.0->spacy<3.8.0,>=3.7.2->en-core-web-sm==3.7.1) (8.1.7)\n",
      "Requirement already satisfied: shellingham>=1.3.0 in /opt/conda/lib/python3.10/site-packages (from typer<1.0.0,>=0.3.0->spacy<3.8.0,>=3.7.2->en-core-web-sm==3.7.1) (1.5.4)\n",
      "Requirement already satisfied: rich>=10.11.0 in /opt/conda/lib/python3.10/site-packages (from typer<1.0.0,>=0.3.0->spacy<3.8.0,>=3.7.2->en-core-web-sm==3.7.1) (13.7.1)\n",
      "Requirement already satisfied: cloudpathlib<1.0.0,>=0.7.0 in /opt/conda/lib/python3.10/site-packages (from weasel<0.5.0,>=0.1.0->spacy<3.8.0,>=3.7.2->en-core-web-sm==3.7.1) (0.19.0)\n",
      "Requirement already satisfied: smart-open<8.0.0,>=5.2.1 in /opt/conda/lib/python3.10/site-packages (from weasel<0.5.0,>=0.1.0->spacy<3.8.0,>=3.7.2->en-core-web-sm==3.7.1) (7.0.4)\n",
      "Requirement already satisfied: MarkupSafe>=2.0 in /opt/conda/lib/python3.10/site-packages (from jinja2->spacy<3.8.0,>=3.7.2->en-core-web-sm==3.7.1) (2.1.5)\n",
      "Requirement already satisfied: marisa-trie>=0.7.7 in /opt/conda/lib/python3.10/site-packages (from language-data>=1.2->langcodes<4.0.0,>=3.2.0->spacy<3.8.0,>=3.7.2->en-core-web-sm==3.7.1) (1.2.0)\n",
      "Requirement already satisfied: markdown-it-py>=2.2.0 in /opt/conda/lib/python3.10/site-packages (from rich>=10.11.0->typer<1.0.0,>=0.3.0->spacy<3.8.0,>=3.7.2->en-core-web-sm==3.7.1) (3.0.0)\n",
      "Requirement already satisfied: pygments<3.0.0,>=2.13.0 in /opt/conda/lib/python3.10/site-packages (from rich>=10.11.0->typer<1.0.0,>=0.3.0->spacy<3.8.0,>=3.7.2->en-core-web-sm==3.7.1) (2.18.0)\n",
      "Requirement already satisfied: wrapt in /opt/conda/lib/python3.10/site-packages (from smart-open<8.0.0,>=5.2.1->weasel<0.5.0,>=0.1.0->spacy<3.8.0,>=3.7.2->en-core-web-sm==3.7.1) (1.16.0)\n",
      "Requirement already satisfied: mdurl~=0.1 in /opt/conda/lib/python3.10/site-packages (from markdown-it-py>=2.2.0->rich>=10.11.0->typer<1.0.0,>=0.3.0->spacy<3.8.0,>=3.7.2->en-core-web-sm==3.7.1) (0.1.2)\n",
      "\u001b[38;5;2m✔ Download and installation successful\u001b[0m\n",
      "You can now load the package via spacy.load('en_core_web_sm')\n"
     ]
    }
   ],
   "source": [
    "!python -m spacy download en_core_web_sm"
   ]
  },
  {
   "cell_type": "code",
   "execution_count": 3,
   "metadata": {
    "execution": {
     "iopub.execute_input": "2024-12-25T06:30:25.212107Z",
     "iopub.status.busy": "2024-12-25T06:30:25.211581Z",
     "iopub.status.idle": "2024-12-25T06:30:38.838820Z",
     "shell.execute_reply": "2024-12-25T06:30:38.837356Z",
     "shell.execute_reply.started": "2024-12-25T06:30:25.212049Z"
    },
    "trusted": true
   },
   "outputs": [
    {
     "name": "stdout",
     "output_type": "stream",
     "text": [
      "Collecting spacy-language-detection\n",
      "  Downloading spacy_language_detection-0.2.1-py3-none-any.whl.metadata (5.1 kB)\n",
      "Requirement already satisfied: spacy>=3.0.0 in /opt/conda/lib/python3.10/site-packages (from spacy-language-detection) (3.7.6)\n",
      "Collecting langdetect==1.0.9 (from spacy-language-detection)\n",
      "  Downloading langdetect-1.0.9.tar.gz (981 kB)\n",
      "\u001b[2K     \u001b[90m━━━━━━━━━━━━━━━━━━━━━━━━━━━━━━━━━━━━━━━\u001b[0m \u001b[32m981.5/981.5 kB\u001b[0m \u001b[31m9.4 MB/s\u001b[0m eta \u001b[36m0:00:00\u001b[0ma \u001b[36m0:00:01\u001b[0m\n",
      "\u001b[?25h  Preparing metadata (setup.py) ... \u001b[?25ldone\n",
      "\u001b[?25hRequirement already satisfied: six in /opt/conda/lib/python3.10/site-packages (from langdetect==1.0.9->spacy-language-detection) (1.16.0)\n",
      "Requirement already satisfied: spacy-legacy<3.1.0,>=3.0.11 in /opt/conda/lib/python3.10/site-packages (from spacy>=3.0.0->spacy-language-detection) (3.0.12)\n",
      "Requirement already satisfied: spacy-loggers<2.0.0,>=1.0.0 in /opt/conda/lib/python3.10/site-packages (from spacy>=3.0.0->spacy-language-detection) (1.0.5)\n",
      "Requirement already satisfied: murmurhash<1.1.0,>=0.28.0 in /opt/conda/lib/python3.10/site-packages (from spacy>=3.0.0->spacy-language-detection) (1.0.10)\n",
      "Requirement already satisfied: cymem<2.1.0,>=2.0.2 in /opt/conda/lib/python3.10/site-packages (from spacy>=3.0.0->spacy-language-detection) (2.0.8)\n",
      "Requirement already satisfied: preshed<3.1.0,>=3.0.2 in /opt/conda/lib/python3.10/site-packages (from spacy>=3.0.0->spacy-language-detection) (3.0.9)\n",
      "Requirement already satisfied: thinc<8.3.0,>=8.2.2 in /opt/conda/lib/python3.10/site-packages (from spacy>=3.0.0->spacy-language-detection) (8.2.5)\n",
      "Requirement already satisfied: wasabi<1.2.0,>=0.9.1 in /opt/conda/lib/python3.10/site-packages (from spacy>=3.0.0->spacy-language-detection) (1.1.3)\n",
      "Requirement already satisfied: srsly<3.0.0,>=2.4.3 in /opt/conda/lib/python3.10/site-packages (from spacy>=3.0.0->spacy-language-detection) (2.4.8)\n",
      "Requirement already satisfied: catalogue<2.1.0,>=2.0.6 in /opt/conda/lib/python3.10/site-packages (from spacy>=3.0.0->spacy-language-detection) (2.0.10)\n",
      "Requirement already satisfied: weasel<0.5.0,>=0.1.0 in /opt/conda/lib/python3.10/site-packages (from spacy>=3.0.0->spacy-language-detection) (0.4.1)\n",
      "Requirement already satisfied: typer<1.0.0,>=0.3.0 in /opt/conda/lib/python3.10/site-packages (from spacy>=3.0.0->spacy-language-detection) (0.12.3)\n",
      "Requirement already satisfied: tqdm<5.0.0,>=4.38.0 in /opt/conda/lib/python3.10/site-packages (from spacy>=3.0.0->spacy-language-detection) (4.66.4)\n",
      "Requirement already satisfied: requests<3.0.0,>=2.13.0 in /opt/conda/lib/python3.10/site-packages (from spacy>=3.0.0->spacy-language-detection) (2.32.3)\n",
      "Requirement already satisfied: pydantic!=1.8,!=1.8.1,<3.0.0,>=1.7.4 in /opt/conda/lib/python3.10/site-packages (from spacy>=3.0.0->spacy-language-detection) (2.9.2)\n",
      "Requirement already satisfied: jinja2 in /opt/conda/lib/python3.10/site-packages (from spacy>=3.0.0->spacy-language-detection) (3.1.4)\n",
      "Requirement already satisfied: setuptools in /opt/conda/lib/python3.10/site-packages (from spacy>=3.0.0->spacy-language-detection) (70.0.0)\n",
      "Requirement already satisfied: packaging>=20.0 in /opt/conda/lib/python3.10/site-packages (from spacy>=3.0.0->spacy-language-detection) (21.3)\n",
      "Requirement already satisfied: langcodes<4.0.0,>=3.2.0 in /opt/conda/lib/python3.10/site-packages (from spacy>=3.0.0->spacy-language-detection) (3.4.0)\n",
      "Requirement already satisfied: numpy>=1.19.0 in /opt/conda/lib/python3.10/site-packages (from spacy>=3.0.0->spacy-language-detection) (1.26.4)\n",
      "Requirement already satisfied: language-data>=1.2 in /opt/conda/lib/python3.10/site-packages (from langcodes<4.0.0,>=3.2.0->spacy>=3.0.0->spacy-language-detection) (1.2.0)\n",
      "Requirement already satisfied: pyparsing!=3.0.5,>=2.0.2 in /opt/conda/lib/python3.10/site-packages (from packaging>=20.0->spacy>=3.0.0->spacy-language-detection) (3.1.2)\n",
      "Requirement already satisfied: annotated-types>=0.6.0 in /opt/conda/lib/python3.10/site-packages (from pydantic!=1.8,!=1.8.1,<3.0.0,>=1.7.4->spacy>=3.0.0->spacy-language-detection) (0.7.0)\n",
      "Requirement already satisfied: pydantic-core==2.23.4 in /opt/conda/lib/python3.10/site-packages (from pydantic!=1.8,!=1.8.1,<3.0.0,>=1.7.4->spacy>=3.0.0->spacy-language-detection) (2.23.4)\n",
      "Requirement already satisfied: typing-extensions>=4.6.1 in /opt/conda/lib/python3.10/site-packages (from pydantic!=1.8,!=1.8.1,<3.0.0,>=1.7.4->spacy>=3.0.0->spacy-language-detection) (4.12.2)\n",
      "Requirement already satisfied: charset-normalizer<4,>=2 in /opt/conda/lib/python3.10/site-packages (from requests<3.0.0,>=2.13.0->spacy>=3.0.0->spacy-language-detection) (3.3.2)\n",
      "Requirement already satisfied: idna<4,>=2.5 in /opt/conda/lib/python3.10/site-packages (from requests<3.0.0,>=2.13.0->spacy>=3.0.0->spacy-language-detection) (3.7)\n",
      "Requirement already satisfied: urllib3<3,>=1.21.1 in /opt/conda/lib/python3.10/site-packages (from requests<3.0.0,>=2.13.0->spacy>=3.0.0->spacy-language-detection) (1.26.18)\n",
      "Requirement already satisfied: certifi>=2017.4.17 in /opt/conda/lib/python3.10/site-packages (from requests<3.0.0,>=2.13.0->spacy>=3.0.0->spacy-language-detection) (2024.8.30)\n",
      "Requirement already satisfied: blis<0.8.0,>=0.7.8 in /opt/conda/lib/python3.10/site-packages (from thinc<8.3.0,>=8.2.2->spacy>=3.0.0->spacy-language-detection) (0.7.11)\n",
      "Requirement already satisfied: confection<1.0.0,>=0.0.1 in /opt/conda/lib/python3.10/site-packages (from thinc<8.3.0,>=8.2.2->spacy>=3.0.0->spacy-language-detection) (0.1.5)\n",
      "Requirement already satisfied: click>=8.0.0 in /opt/conda/lib/python3.10/site-packages (from typer<1.0.0,>=0.3.0->spacy>=3.0.0->spacy-language-detection) (8.1.7)\n",
      "Requirement already satisfied: shellingham>=1.3.0 in /opt/conda/lib/python3.10/site-packages (from typer<1.0.0,>=0.3.0->spacy>=3.0.0->spacy-language-detection) (1.5.4)\n",
      "Requirement already satisfied: rich>=10.11.0 in /opt/conda/lib/python3.10/site-packages (from typer<1.0.0,>=0.3.0->spacy>=3.0.0->spacy-language-detection) (13.7.1)\n",
      "Requirement already satisfied: cloudpathlib<1.0.0,>=0.7.0 in /opt/conda/lib/python3.10/site-packages (from weasel<0.5.0,>=0.1.0->spacy>=3.0.0->spacy-language-detection) (0.19.0)\n",
      "Requirement already satisfied: smart-open<8.0.0,>=5.2.1 in /opt/conda/lib/python3.10/site-packages (from weasel<0.5.0,>=0.1.0->spacy>=3.0.0->spacy-language-detection) (7.0.4)\n",
      "Requirement already satisfied: MarkupSafe>=2.0 in /opt/conda/lib/python3.10/site-packages (from jinja2->spacy>=3.0.0->spacy-language-detection) (2.1.5)\n",
      "Requirement already satisfied: marisa-trie>=0.7.7 in /opt/conda/lib/python3.10/site-packages (from language-data>=1.2->langcodes<4.0.0,>=3.2.0->spacy>=3.0.0->spacy-language-detection) (1.2.0)\n",
      "Requirement already satisfied: markdown-it-py>=2.2.0 in /opt/conda/lib/python3.10/site-packages (from rich>=10.11.0->typer<1.0.0,>=0.3.0->spacy>=3.0.0->spacy-language-detection) (3.0.0)\n",
      "Requirement already satisfied: pygments<3.0.0,>=2.13.0 in /opt/conda/lib/python3.10/site-packages (from rich>=10.11.0->typer<1.0.0,>=0.3.0->spacy>=3.0.0->spacy-language-detection) (2.18.0)\n",
      "Requirement already satisfied: wrapt in /opt/conda/lib/python3.10/site-packages (from smart-open<8.0.0,>=5.2.1->weasel<0.5.0,>=0.1.0->spacy>=3.0.0->spacy-language-detection) (1.16.0)\n",
      "Requirement already satisfied: mdurl~=0.1 in /opt/conda/lib/python3.10/site-packages (from markdown-it-py>=2.2.0->rich>=10.11.0->typer<1.0.0,>=0.3.0->spacy>=3.0.0->spacy-language-detection) (0.1.2)\n",
      "Downloading spacy_language_detection-0.2.1-py3-none-any.whl (6.5 kB)\n",
      "Building wheels for collected packages: langdetect\n",
      "  Building wheel for langdetect (setup.py) ... \u001b[?25ldone\n",
      "\u001b[?25h  Created wheel for langdetect: filename=langdetect-1.0.9-py3-none-any.whl size=993227 sha256=daaefa8b2fbf3d838332003c1fe817fcad259e0dd23f5bd7cd2302f03762109b\n",
      "  Stored in directory: /root/.cache/pip/wheels/95/03/7d/59ea870c70ce4e5a370638b5462a7711ab78fba2f655d05106\n",
      "Successfully built langdetect\n",
      "Installing collected packages: langdetect, spacy-language-detection\n",
      "Successfully installed langdetect-1.0.9 spacy-language-detection-0.2.1\n",
      "Note: you may need to restart the kernel to use updated packages.\n"
     ]
    }
   ],
   "source": [
    "pip install spacy-language-detection"
   ]
  },
  {
   "cell_type": "code",
   "execution_count": 4,
   "metadata": {
    "_cell_guid": "b1076dfc-b9ad-4769-8c92-a6c4dae69d19",
    "_uuid": "8f2839f25d086af736a60e9eeb907d3b93b6e0e5",
    "execution": {
     "iopub.execute_input": "2024-12-25T06:30:38.842765Z",
     "iopub.status.busy": "2024-12-25T06:30:38.842321Z",
     "iopub.status.idle": "2024-12-25T06:30:44.547404Z",
     "shell.execute_reply": "2024-12-25T06:30:44.546270Z",
     "shell.execute_reply.started": "2024-12-25T06:30:38.842724Z"
    },
    "trusted": true
   },
   "outputs": [
    {
     "data": {
      "text/html": [
       "<div>\n",
       "<style scoped>\n",
       "    .dataframe tbody tr th:only-of-type {\n",
       "        vertical-align: middle;\n",
       "    }\n",
       "\n",
       "    .dataframe tbody tr th {\n",
       "        vertical-align: top;\n",
       "    }\n",
       "\n",
       "    .dataframe thead th {\n",
       "        text-align: right;\n",
       "    }\n",
       "</style>\n",
       "<table border=\"1\" class=\"dataframe\">\n",
       "  <thead>\n",
       "    <tr style=\"text-align: right;\">\n",
       "      <th></th>\n",
       "      <th>Unnamed: 0</th>\n",
       "      <th>book_id</th>\n",
       "      <th>cover_image_uri</th>\n",
       "      <th>book_details</th>\n",
       "      <th>format</th>\n",
       "      <th>publication_info</th>\n",
       "      <th>authorlink</th>\n",
       "      <th>author</th>\n",
       "      <th>num_pages</th>\n",
       "      <th>genres</th>\n",
       "      <th>num_ratings</th>\n",
       "      <th>num_reviews</th>\n",
       "      <th>average_rating</th>\n",
       "      <th>rating_distribution</th>\n",
       "    </tr>\n",
       "    <tr>\n",
       "      <th>book_title</th>\n",
       "      <th></th>\n",
       "      <th></th>\n",
       "      <th></th>\n",
       "      <th></th>\n",
       "      <th></th>\n",
       "      <th></th>\n",
       "      <th></th>\n",
       "      <th></th>\n",
       "      <th></th>\n",
       "      <th></th>\n",
       "      <th></th>\n",
       "      <th></th>\n",
       "      <th></th>\n",
       "      <th></th>\n",
       "    </tr>\n",
       "  </thead>\n",
       "  <tbody>\n",
       "    <tr>\n",
       "      <th>Harry Potter and the Half-Blood Prince</th>\n",
       "      <td>0</td>\n",
       "      <td>1</td>\n",
       "      <td>https://images-na.ssl-images-amazon.com/images...</td>\n",
       "      <td>It is the middle of the summer, but there is a...</td>\n",
       "      <td>['652 pages, Paperback']</td>\n",
       "      <td>['First published July 16, 2005']</td>\n",
       "      <td>https://www.goodreads.com/author/show/1077326....</td>\n",
       "      <td>J.K. Rowling</td>\n",
       "      <td>['652']</td>\n",
       "      <td>['Fantasy', 'Young Adult', 'Fiction', 'Magic',...</td>\n",
       "      <td>3292516</td>\n",
       "      <td>58398</td>\n",
       "      <td>4.58</td>\n",
       "      <td>{'5': '2,244,154', '4': '775,028', '3': '219,8...</td>\n",
       "    </tr>\n",
       "    <tr>\n",
       "      <th>Harry Potter and the Order of the Phoenix</th>\n",
       "      <td>1</td>\n",
       "      <td>2</td>\n",
       "      <td>https://images-na.ssl-images-amazon.com/images...</td>\n",
       "      <td>Harry Potter is about to start his fifth year ...</td>\n",
       "      <td>['912 pages, Paperback']</td>\n",
       "      <td>['First published June 21, 2003']</td>\n",
       "      <td>https://www.goodreads.com/author/show/1077326....</td>\n",
       "      <td>J.K. Rowling</td>\n",
       "      <td>['912']</td>\n",
       "      <td>['Young Adult', 'Fiction', 'Magic', 'Childrens...</td>\n",
       "      <td>3401709</td>\n",
       "      <td>64300</td>\n",
       "      <td>4.50</td>\n",
       "      <td>{'5': '2,178,760', '4': '856,178', '3': '293,2...</td>\n",
       "    </tr>\n",
       "    <tr>\n",
       "      <th>Harry Potter and the Sorcerer's Stone</th>\n",
       "      <td>2</td>\n",
       "      <td>3</td>\n",
       "      <td>https://images-na.ssl-images-amazon.com/images...</td>\n",
       "      <td>Harry Potter has no idea how famous he is. Tha...</td>\n",
       "      <td>['309 pages, Hardcover']</td>\n",
       "      <td>['First published June 26, 1997']</td>\n",
       "      <td>https://www.goodreads.com/author/show/1077326....</td>\n",
       "      <td>J.K. Rowling</td>\n",
       "      <td>['309']</td>\n",
       "      <td>['Fantasy', 'Fiction', 'Young Adult', 'Magic',...</td>\n",
       "      <td>10116247</td>\n",
       "      <td>163493</td>\n",
       "      <td>4.47</td>\n",
       "      <td>{'5': '6,544,542', '4': '2,348,390', '3': '856...</td>\n",
       "    </tr>\n",
       "    <tr>\n",
       "      <th>Harry Potter and the Prisoner of Azkaban</th>\n",
       "      <td>3</td>\n",
       "      <td>5</td>\n",
       "      <td>https://images-na.ssl-images-amazon.com/images...</td>\n",
       "      <td>Harry Potter, along with his best friends, Ron...</td>\n",
       "      <td>['435 pages, Mass Market Paperback']</td>\n",
       "      <td>['First published July 8, 1999']</td>\n",
       "      <td>https://www.goodreads.com/author/show/1077326....</td>\n",
       "      <td>J.K. Rowling</td>\n",
       "      <td>['435']</td>\n",
       "      <td>['Fantasy', 'Fiction', 'Young Adult', 'Magic',...</td>\n",
       "      <td>4215031</td>\n",
       "      <td>84959</td>\n",
       "      <td>4.58</td>\n",
       "      <td>{'5': '2,892,322', '4': '970,190', '3': '287,7...</td>\n",
       "    </tr>\n",
       "    <tr>\n",
       "      <th>Harry Potter and the Goblet of Fire</th>\n",
       "      <td>4</td>\n",
       "      <td>6</td>\n",
       "      <td>https://images-na.ssl-images-amazon.com/images...</td>\n",
       "      <td>It is the summer holidays and soon Harry Potte...</td>\n",
       "      <td>['734 pages, Paperback']</td>\n",
       "      <td>['First published July 8, 2000']</td>\n",
       "      <td>https://www.goodreads.com/author/show/1077326....</td>\n",
       "      <td>J.K. Rowling</td>\n",
       "      <td>['734']</td>\n",
       "      <td>['Fantasy', 'Young Adult', 'Fiction', 'Magic',...</td>\n",
       "      <td>3718209</td>\n",
       "      <td>69961</td>\n",
       "      <td>4.57</td>\n",
       "      <td>{'5': '2,500,070', '4': '899,496', '3': '259,7...</td>\n",
       "    </tr>\n",
       "  </tbody>\n",
       "</table>\n",
       "</div>"
      ],
      "text/plain": [
       "                                           Unnamed: 0  book_id  \\\n",
       "book_title                                                       \n",
       "Harry Potter and the Half-Blood Prince              0        1   \n",
       "Harry Potter and the Order of the Phoenix           1        2   \n",
       "Harry Potter and the Sorcerer's Stone               2        3   \n",
       "Harry Potter and the Prisoner of Azkaban            3        5   \n",
       "Harry Potter and the Goblet of Fire                 4        6   \n",
       "\n",
       "                                                                             cover_image_uri  \\\n",
       "book_title                                                                                     \n",
       "Harry Potter and the Half-Blood Prince     https://images-na.ssl-images-amazon.com/images...   \n",
       "Harry Potter and the Order of the Phoenix  https://images-na.ssl-images-amazon.com/images...   \n",
       "Harry Potter and the Sorcerer's Stone      https://images-na.ssl-images-amazon.com/images...   \n",
       "Harry Potter and the Prisoner of Azkaban   https://images-na.ssl-images-amazon.com/images...   \n",
       "Harry Potter and the Goblet of Fire        https://images-na.ssl-images-amazon.com/images...   \n",
       "\n",
       "                                                                                book_details  \\\n",
       "book_title                                                                                     \n",
       "Harry Potter and the Half-Blood Prince     It is the middle of the summer, but there is a...   \n",
       "Harry Potter and the Order of the Phoenix  Harry Potter is about to start his fifth year ...   \n",
       "Harry Potter and the Sorcerer's Stone      Harry Potter has no idea how famous he is. Tha...   \n",
       "Harry Potter and the Prisoner of Azkaban   Harry Potter, along with his best friends, Ron...   \n",
       "Harry Potter and the Goblet of Fire        It is the summer holidays and soon Harry Potte...   \n",
       "\n",
       "                                                                         format  \\\n",
       "book_title                                                                        \n",
       "Harry Potter and the Half-Blood Prince                 ['652 pages, Paperback']   \n",
       "Harry Potter and the Order of the Phoenix              ['912 pages, Paperback']   \n",
       "Harry Potter and the Sorcerer's Stone                  ['309 pages, Hardcover']   \n",
       "Harry Potter and the Prisoner of Azkaban   ['435 pages, Mass Market Paperback']   \n",
       "Harry Potter and the Goblet of Fire                    ['734 pages, Paperback']   \n",
       "\n",
       "                                                            publication_info  \\\n",
       "book_title                                                                     \n",
       "Harry Potter and the Half-Blood Prince     ['First published July 16, 2005']   \n",
       "Harry Potter and the Order of the Phoenix  ['First published June 21, 2003']   \n",
       "Harry Potter and the Sorcerer's Stone      ['First published June 26, 1997']   \n",
       "Harry Potter and the Prisoner of Azkaban    ['First published July 8, 1999']   \n",
       "Harry Potter and the Goblet of Fire         ['First published July 8, 2000']   \n",
       "\n",
       "                                                                                  authorlink  \\\n",
       "book_title                                                                                     \n",
       "Harry Potter and the Half-Blood Prince     https://www.goodreads.com/author/show/1077326....   \n",
       "Harry Potter and the Order of the Phoenix  https://www.goodreads.com/author/show/1077326....   \n",
       "Harry Potter and the Sorcerer's Stone      https://www.goodreads.com/author/show/1077326....   \n",
       "Harry Potter and the Prisoner of Azkaban   https://www.goodreads.com/author/show/1077326....   \n",
       "Harry Potter and the Goblet of Fire        https://www.goodreads.com/author/show/1077326....   \n",
       "\n",
       "                                                 author num_pages  \\\n",
       "book_title                                                          \n",
       "Harry Potter and the Half-Blood Prince     J.K. Rowling   ['652']   \n",
       "Harry Potter and the Order of the Phoenix  J.K. Rowling   ['912']   \n",
       "Harry Potter and the Sorcerer's Stone      J.K. Rowling   ['309']   \n",
       "Harry Potter and the Prisoner of Azkaban   J.K. Rowling   ['435']   \n",
       "Harry Potter and the Goblet of Fire        J.K. Rowling   ['734']   \n",
       "\n",
       "                                                                                      genres  \\\n",
       "book_title                                                                                     \n",
       "Harry Potter and the Half-Blood Prince     ['Fantasy', 'Young Adult', 'Fiction', 'Magic',...   \n",
       "Harry Potter and the Order of the Phoenix  ['Young Adult', 'Fiction', 'Magic', 'Childrens...   \n",
       "Harry Potter and the Sorcerer's Stone      ['Fantasy', 'Fiction', 'Young Adult', 'Magic',...   \n",
       "Harry Potter and the Prisoner of Azkaban   ['Fantasy', 'Fiction', 'Young Adult', 'Magic',...   \n",
       "Harry Potter and the Goblet of Fire        ['Fantasy', 'Young Adult', 'Fiction', 'Magic',...   \n",
       "\n",
       "                                           num_ratings  num_reviews  \\\n",
       "book_title                                                            \n",
       "Harry Potter and the Half-Blood Prince         3292516        58398   \n",
       "Harry Potter and the Order of the Phoenix      3401709        64300   \n",
       "Harry Potter and the Sorcerer's Stone         10116247       163493   \n",
       "Harry Potter and the Prisoner of Azkaban       4215031        84959   \n",
       "Harry Potter and the Goblet of Fire            3718209        69961   \n",
       "\n",
       "                                           average_rating  \\\n",
       "book_title                                                  \n",
       "Harry Potter and the Half-Blood Prince               4.58   \n",
       "Harry Potter and the Order of the Phoenix            4.50   \n",
       "Harry Potter and the Sorcerer's Stone                4.47   \n",
       "Harry Potter and the Prisoner of Azkaban             4.58   \n",
       "Harry Potter and the Goblet of Fire                  4.57   \n",
       "\n",
       "                                                                         rating_distribution  \n",
       "book_title                                                                                    \n",
       "Harry Potter and the Half-Blood Prince     {'5': '2,244,154', '4': '775,028', '3': '219,8...  \n",
       "Harry Potter and the Order of the Phoenix  {'5': '2,178,760', '4': '856,178', '3': '293,2...  \n",
       "Harry Potter and the Sorcerer's Stone      {'5': '6,544,542', '4': '2,348,390', '3': '856...  \n",
       "Harry Potter and the Prisoner of Azkaban   {'5': '2,892,322', '4': '970,190', '3': '287,7...  \n",
       "Harry Potter and the Goblet of Fire        {'5': '2,500,070', '4': '899,496', '3': '259,7...  "
      ]
     },
     "execution_count": 4,
     "metadata": {},
     "output_type": "execute_result"
    }
   ],
   "source": [
    "import numpy as np\n",
    "import pandas as pd\n",
    "import matplotlib.pyplot as plt\n",
    "import seaborn as sns\n",
    "from wordcloud import WordCloud\n",
    "import re\n",
    "import string\n",
    "import nltk\n",
    "import contractions\n",
    "import matplotlib.pyplot as plt\n",
    "import spacy\n",
    "from spacy.language import Language  \n",
    "from spacy_language_detection import LanguageDetector\n",
    "from nltk.corpus import stopwords,wordnet\n",
    "from nltk.stem import WordNetLemmatizer\n",
    "from nltk.tokenize import MWETokenizer, word_tokenize\n",
    "from sklearn.model_selection import train_test_split\n",
    "from wordcloud import WordCloud\n",
    "\n",
    "df = pd.read_csv('/kaggle/input/books-dataset-goodreadsmay-2024/Book_Details.csv',index_col = 'book_title')\n",
    "df.head()"
   ]
  },
  {
   "cell_type": "code",
   "execution_count": 5,
   "metadata": {
    "execution": {
     "iopub.execute_input": "2024-12-25T06:30:44.549064Z",
     "iopub.status.busy": "2024-12-25T06:30:44.548711Z",
     "iopub.status.idle": "2024-12-25T06:30:44.581627Z",
     "shell.execute_reply": "2024-12-25T06:30:44.580214Z",
     "shell.execute_reply.started": "2024-12-25T06:30:44.549029Z"
    },
    "trusted": true
   },
   "outputs": [
    {
     "name": "stdout",
     "output_type": "stream",
     "text": [
      "<class 'pandas.core.frame.DataFrame'>\n",
      "Index: 16225 entries, Harry Potter and the Half-Blood Prince to Shadow's Siege\n",
      "Data columns (total 14 columns):\n",
      " #   Column               Non-Null Count  Dtype  \n",
      "---  ------               --------------  -----  \n",
      " 0   Unnamed: 0           16225 non-null  int64  \n",
      " 1   book_id              16225 non-null  int64  \n",
      " 2   cover_image_uri      16225 non-null  object \n",
      " 3   book_details         16177 non-null  object \n",
      " 4   format               16225 non-null  object \n",
      " 5   publication_info     16225 non-null  object \n",
      " 6   authorlink           16225 non-null  object \n",
      " 7   author               16225 non-null  object \n",
      " 8   num_pages            16225 non-null  object \n",
      " 9   genres               16225 non-null  object \n",
      " 10  num_ratings          16225 non-null  int64  \n",
      " 11  num_reviews          16225 non-null  int64  \n",
      " 12  average_rating       16225 non-null  float64\n",
      " 13  rating_distribution  16225 non-null  object \n",
      "dtypes: float64(1), int64(4), object(9)\n",
      "memory usage: 1.9+ MB\n"
     ]
    }
   ],
   "source": [
    "df.info()"
   ]
  },
  {
   "cell_type": "code",
   "execution_count": 6,
   "metadata": {
    "execution": {
     "iopub.execute_input": "2024-12-25T06:30:44.583605Z",
     "iopub.status.busy": "2024-12-25T06:30:44.583250Z",
     "iopub.status.idle": "2024-12-25T06:30:44.627744Z",
     "shell.execute_reply": "2024-12-25T06:30:44.626630Z",
     "shell.execute_reply.started": "2024-12-25T06:30:44.583571Z"
    },
    "trusted": true
   },
   "outputs": [
    {
     "data": {
      "text/html": [
       "<div>\n",
       "<style scoped>\n",
       "    .dataframe tbody tr th:only-of-type {\n",
       "        vertical-align: middle;\n",
       "    }\n",
       "\n",
       "    .dataframe tbody tr th {\n",
       "        vertical-align: top;\n",
       "    }\n",
       "\n",
       "    .dataframe thead th {\n",
       "        text-align: right;\n",
       "    }\n",
       "</style>\n",
       "<table border=\"1\" class=\"dataframe\">\n",
       "  <thead>\n",
       "    <tr style=\"text-align: right;\">\n",
       "      <th></th>\n",
       "      <th>Unnamed: 0</th>\n",
       "      <th>book_id</th>\n",
       "      <th>num_ratings</th>\n",
       "      <th>num_reviews</th>\n",
       "      <th>average_rating</th>\n",
       "    </tr>\n",
       "  </thead>\n",
       "  <tbody>\n",
       "    <tr>\n",
       "      <th>count</th>\n",
       "      <td>16225.000000</td>\n",
       "      <td>1.622500e+04</td>\n",
       "      <td>1.622500e+04</td>\n",
       "      <td>16225.000000</td>\n",
       "      <td>16225.000000</td>\n",
       "    </tr>\n",
       "    <tr>\n",
       "      <th>mean</th>\n",
       "      <td>8112.000000</td>\n",
       "      <td>1.038704e+07</td>\n",
       "      <td>8.578453e+04</td>\n",
       "      <td>5156.269584</td>\n",
       "      <td>4.002499</td>\n",
       "    </tr>\n",
       "    <tr>\n",
       "      <th>std</th>\n",
       "      <td>4683.898394</td>\n",
       "      <td>2.146809e+07</td>\n",
       "      <td>3.202513e+05</td>\n",
       "      <td>15776.459696</td>\n",
       "      <td>0.336102</td>\n",
       "    </tr>\n",
       "    <tr>\n",
       "      <th>min</th>\n",
       "      <td>0.000000</td>\n",
       "      <td>1.000000e+00</td>\n",
       "      <td>0.000000e+00</td>\n",
       "      <td>0.000000</td>\n",
       "      <td>0.000000</td>\n",
       "    </tr>\n",
       "    <tr>\n",
       "      <th>25%</th>\n",
       "      <td>4056.000000</td>\n",
       "      <td>9.403400e+04</td>\n",
       "      <td>2.950000e+03</td>\n",
       "      <td>205.000000</td>\n",
       "      <td>3.830000</td>\n",
       "    </tr>\n",
       "    <tr>\n",
       "      <th>50%</th>\n",
       "      <td>8112.000000</td>\n",
       "      <td>9.440730e+05</td>\n",
       "      <td>1.623200e+04</td>\n",
       "      <td>993.000000</td>\n",
       "      <td>4.030000</td>\n",
       "    </tr>\n",
       "    <tr>\n",
       "      <th>75%</th>\n",
       "      <td>12168.000000</td>\n",
       "      <td>1.128490e+07</td>\n",
       "      <td>5.594400e+04</td>\n",
       "      <td>3457.000000</td>\n",
       "      <td>4.210000</td>\n",
       "    </tr>\n",
       "    <tr>\n",
       "      <th>max</th>\n",
       "      <td>16224.000000</td>\n",
       "      <td>2.096076e+08</td>\n",
       "      <td>1.011625e+07</td>\n",
       "      <td>274695.000000</td>\n",
       "      <td>5.000000</td>\n",
       "    </tr>\n",
       "  </tbody>\n",
       "</table>\n",
       "</div>"
      ],
      "text/plain": [
       "         Unnamed: 0       book_id   num_ratings    num_reviews  average_rating\n",
       "count  16225.000000  1.622500e+04  1.622500e+04   16225.000000    16225.000000\n",
       "mean    8112.000000  1.038704e+07  8.578453e+04    5156.269584        4.002499\n",
       "std     4683.898394  2.146809e+07  3.202513e+05   15776.459696        0.336102\n",
       "min        0.000000  1.000000e+00  0.000000e+00       0.000000        0.000000\n",
       "25%     4056.000000  9.403400e+04  2.950000e+03     205.000000        3.830000\n",
       "50%     8112.000000  9.440730e+05  1.623200e+04     993.000000        4.030000\n",
       "75%    12168.000000  1.128490e+07  5.594400e+04    3457.000000        4.210000\n",
       "max    16224.000000  2.096076e+08  1.011625e+07  274695.000000        5.000000"
      ]
     },
     "execution_count": 6,
     "metadata": {},
     "output_type": "execute_result"
    }
   ],
   "source": [
    "df.describe()"
   ]
  },
  {
   "cell_type": "code",
   "execution_count": 7,
   "metadata": {
    "execution": {
     "iopub.execute_input": "2024-12-25T06:30:44.629588Z",
     "iopub.status.busy": "2024-12-25T06:30:44.629170Z",
     "iopub.status.idle": "2024-12-25T06:30:44.636722Z",
     "shell.execute_reply": "2024-12-25T06:30:44.635561Z",
     "shell.execute_reply.started": "2024-12-25T06:30:44.629541Z"
    },
    "trusted": true
   },
   "outputs": [
    {
     "data": {
      "text/plain": [
       "(16225, 14)"
      ]
     },
     "execution_count": 7,
     "metadata": {},
     "output_type": "execute_result"
    }
   ],
   "source": [
    "df.shape"
   ]
  },
  {
   "cell_type": "code",
   "execution_count": 8,
   "metadata": {
    "execution": {
     "iopub.execute_input": "2024-12-25T06:30:44.638667Z",
     "iopub.status.busy": "2024-12-25T06:30:44.638023Z",
     "iopub.status.idle": "2024-12-25T06:30:44.659524Z",
     "shell.execute_reply": "2024-12-25T06:30:44.658349Z",
     "shell.execute_reply.started": "2024-12-25T06:30:44.638619Z"
    },
    "trusted": true
   },
   "outputs": [
    {
     "data": {
      "text/plain": [
       "Unnamed: 0              0\n",
       "book_id                 0\n",
       "cover_image_uri         0\n",
       "book_details           48\n",
       "format                  0\n",
       "publication_info        0\n",
       "authorlink              0\n",
       "author                  0\n",
       "num_pages               0\n",
       "genres                  0\n",
       "num_ratings             0\n",
       "num_reviews             0\n",
       "average_rating          0\n",
       "rating_distribution     0\n",
       "dtype: int64"
      ]
     },
     "execution_count": 8,
     "metadata": {},
     "output_type": "execute_result"
    }
   ],
   "source": [
    "df.isna().sum()"
   ]
  },
  {
   "cell_type": "markdown",
   "metadata": {},
   "source": [
    "## Data Preprocessing"
   ]
  },
  {
   "cell_type": "code",
   "execution_count": 9,
   "metadata": {
    "execution": {
     "iopub.execute_input": "2024-12-25T06:30:44.661637Z",
     "iopub.status.busy": "2024-12-25T06:30:44.661182Z",
     "iopub.status.idle": "2024-12-25T06:30:44.755104Z",
     "shell.execute_reply": "2024-12-25T06:30:44.753933Z",
     "shell.execute_reply.started": "2024-12-25T06:30:44.661588Z"
    },
    "trusted": true
   },
   "outputs": [],
   "source": [
    "# drop null columns\n",
    "df = df.dropna()\n",
    "\n",
    "#separate generated list of genres\n",
    "df['genres'] = df['genres'].str.strip('[]').str.split(',').apply(lambda x: [i.strip().strip(\"'\") for i in x])"
   ]
  },
  {
   "cell_type": "code",
   "execution_count": 10,
   "metadata": {
    "execution": {
     "iopub.execute_input": "2024-12-25T06:30:44.758586Z",
     "iopub.status.busy": "2024-12-25T06:30:44.758240Z",
     "iopub.status.idle": "2024-12-25T06:30:44.793472Z",
     "shell.execute_reply": "2024-12-25T06:30:44.792209Z",
     "shell.execute_reply.started": "2024-12-25T06:30:44.758552Z"
    },
    "trusted": true
   },
   "outputs": [],
   "source": [
    "#one hot encoding book's category\n",
    "list_genres_5 = ['Fantasy', 'Young Adult', 'Classics', 'Romance', 'Historical Fiction']\n",
    "\n",
    "for genre in list_genres_5:\n",
    "    df[genre] = df['genres'].apply(lambda x: genre in x)"
   ]
  },
  {
   "cell_type": "code",
   "execution_count": 11,
   "metadata": {
    "execution": {
     "iopub.execute_input": "2024-12-25T06:30:44.795151Z",
     "iopub.status.busy": "2024-12-25T06:30:44.794779Z",
     "iopub.status.idle": "2024-12-25T06:30:44.830414Z",
     "shell.execute_reply": "2024-12-25T06:30:44.829314Z",
     "shell.execute_reply.started": "2024-12-25T06:30:44.795116Z"
    },
    "trusted": true
   },
   "outputs": [
    {
     "data": {
      "text/html": [
       "<div>\n",
       "<style scoped>\n",
       "    .dataframe tbody tr th:only-of-type {\n",
       "        vertical-align: middle;\n",
       "    }\n",
       "\n",
       "    .dataframe tbody tr th {\n",
       "        vertical-align: top;\n",
       "    }\n",
       "\n",
       "    .dataframe thead th {\n",
       "        text-align: right;\n",
       "    }\n",
       "</style>\n",
       "<table border=\"1\" class=\"dataframe\">\n",
       "  <thead>\n",
       "    <tr style=\"text-align: right;\">\n",
       "      <th></th>\n",
       "      <th>book_details</th>\n",
       "      <th>Fantasy</th>\n",
       "      <th>Young Adult</th>\n",
       "      <th>Classics</th>\n",
       "      <th>Romance</th>\n",
       "      <th>Historical Fiction</th>\n",
       "    </tr>\n",
       "    <tr>\n",
       "      <th>book_title</th>\n",
       "      <th></th>\n",
       "      <th></th>\n",
       "      <th></th>\n",
       "      <th></th>\n",
       "      <th></th>\n",
       "      <th></th>\n",
       "    </tr>\n",
       "  </thead>\n",
       "  <tbody>\n",
       "    <tr>\n",
       "      <th>Harry Potter and the Half-Blood Prince</th>\n",
       "      <td>It is the middle of the summer, but there is a...</td>\n",
       "      <td>True</td>\n",
       "      <td>True</td>\n",
       "      <td>False</td>\n",
       "      <td>False</td>\n",
       "      <td>False</td>\n",
       "    </tr>\n",
       "    <tr>\n",
       "      <th>Harry Potter and the Order of the Phoenix</th>\n",
       "      <td>Harry Potter is about to start his fifth year ...</td>\n",
       "      <td>False</td>\n",
       "      <td>True</td>\n",
       "      <td>False</td>\n",
       "      <td>False</td>\n",
       "      <td>False</td>\n",
       "    </tr>\n",
       "    <tr>\n",
       "      <th>Harry Potter and the Sorcerer's Stone</th>\n",
       "      <td>Harry Potter has no idea how famous he is. Tha...</td>\n",
       "      <td>True</td>\n",
       "      <td>True</td>\n",
       "      <td>False</td>\n",
       "      <td>False</td>\n",
       "      <td>False</td>\n",
       "    </tr>\n",
       "    <tr>\n",
       "      <th>Harry Potter and the Prisoner of Azkaban</th>\n",
       "      <td>Harry Potter, along with his best friends, Ron...</td>\n",
       "      <td>True</td>\n",
       "      <td>True</td>\n",
       "      <td>False</td>\n",
       "      <td>False</td>\n",
       "      <td>False</td>\n",
       "    </tr>\n",
       "    <tr>\n",
       "      <th>Harry Potter and the Goblet of Fire</th>\n",
       "      <td>It is the summer holidays and soon Harry Potte...</td>\n",
       "      <td>True</td>\n",
       "      <td>True</td>\n",
       "      <td>False</td>\n",
       "      <td>False</td>\n",
       "      <td>False</td>\n",
       "    </tr>\n",
       "  </tbody>\n",
       "</table>\n",
       "</div>"
      ],
      "text/plain": [
       "                                                                                book_details  \\\n",
       "book_title                                                                                     \n",
       "Harry Potter and the Half-Blood Prince     It is the middle of the summer, but there is a...   \n",
       "Harry Potter and the Order of the Phoenix  Harry Potter is about to start his fifth year ...   \n",
       "Harry Potter and the Sorcerer's Stone      Harry Potter has no idea how famous he is. Tha...   \n",
       "Harry Potter and the Prisoner of Azkaban   Harry Potter, along with his best friends, Ron...   \n",
       "Harry Potter and the Goblet of Fire        It is the summer holidays and soon Harry Potte...   \n",
       "\n",
       "                                           Fantasy  Young Adult  Classics  \\\n",
       "book_title                                                                  \n",
       "Harry Potter and the Half-Blood Prince        True         True     False   \n",
       "Harry Potter and the Order of the Phoenix    False         True     False   \n",
       "Harry Potter and the Sorcerer's Stone         True         True     False   \n",
       "Harry Potter and the Prisoner of Azkaban      True         True     False   \n",
       "Harry Potter and the Goblet of Fire           True         True     False   \n",
       "\n",
       "                                           Romance  Historical Fiction  \n",
       "book_title                                                              \n",
       "Harry Potter and the Half-Blood Prince       False               False  \n",
       "Harry Potter and the Order of the Phoenix    False               False  \n",
       "Harry Potter and the Sorcerer's Stone        False               False  \n",
       "Harry Potter and the Prisoner of Azkaban     False               False  \n",
       "Harry Potter and the Goblet of Fire          False               False  "
      ]
     },
     "execution_count": 11,
     "metadata": {},
     "output_type": "execute_result"
    }
   ],
   "source": [
    "# filtering columns of the dataset \n",
    "df = df.loc[df['genres'].apply(lambda x: 'Fiction' in x),['book_details',*list_genres_5]]\n",
    "df.head()"
   ]
  },
  {
   "cell_type": "markdown",
   "metadata": {},
   "source": [
    "## Cleaning Text"
   ]
  },
  {
   "cell_type": "code",
   "execution_count": 12,
   "metadata": {
    "execution": {
     "iopub.execute_input": "2024-12-25T06:30:44.832457Z",
     "iopub.status.busy": "2024-12-25T06:30:44.832001Z",
     "iopub.status.idle": "2024-12-25T06:30:44.839704Z",
     "shell.execute_reply": "2024-12-25T06:30:44.838497Z",
     "shell.execute_reply.started": "2024-12-25T06:30:44.832408Z"
    },
    "trusted": true
   },
   "outputs": [],
   "source": [
    "cleaned_df = df.copy()"
   ]
  },
  {
   "cell_type": "code",
   "execution_count": 13,
   "metadata": {
    "execution": {
     "iopub.execute_input": "2024-12-25T06:30:44.841608Z",
     "iopub.status.busy": "2024-12-25T06:30:44.841194Z",
     "iopub.status.idle": "2024-12-25T06:30:50.188816Z",
     "shell.execute_reply": "2024-12-25T06:30:50.187696Z",
     "shell.execute_reply.started": "2024-12-25T06:30:44.841565Z"
    },
    "trusted": true
   },
   "outputs": [],
   "source": [
    "# clear the contractions\n",
    "def expand_contractions(x):\n",
    "    return ' '.join([contractions.fix(word) for word in x.split() ])\n",
    "\n",
    "punctuation = string.punctuation+'“'+'’'\n",
    "\n",
    "cleaned_df['book_details'] = cleaned_df['book_details'].str.lower() # lower case text\n",
    "cleaned_df['book_details'] = cleaned_df['book_details'].apply(lambda x : expand_contractions(x)) # expanding contractions\n",
    "cleaned_df['book_details'] = cleaned_df['book_details'].apply(lambda x: re.sub(r'\\d+', '', x))  # clearing number\n",
    "cleaned_df['book_details'] = cleaned_df['book_details'].apply(lambda x: re.sub(r'[^\\w\\s]+', ' ', x))  # clear special character\n",
    "cleaned_df['book_details'] = cleaned_df['book_details'].apply(lambda x: re.sub(r'\\s+', ' ', x).strip())  # clear multiple whitespace\n",
    "cleaned_df['book_details'] = cleaned_df['book_details'].apply(lambda x : ' '.join([word for word in x.split() if word not in  ['s','','isbn']])) # clear unneccessary word"
   ]
  },
  {
   "cell_type": "code",
   "execution_count": 14,
   "metadata": {
    "execution": {
     "iopub.execute_input": "2024-12-25T06:30:50.191223Z",
     "iopub.status.busy": "2024-12-25T06:30:50.190756Z",
     "iopub.status.idle": "2024-12-25T06:30:57.346824Z",
     "shell.execute_reply": "2024-12-25T06:30:57.345642Z",
     "shell.execute_reply.started": "2024-12-25T06:30:50.191174Z"
    },
    "trusted": true
   },
   "outputs": [],
   "source": [
    "# tokenization\n",
    "def tokenize_text(text):\n",
    "    tokenizer = MWETokenizer(separator=' ')\n",
    "    tokens = tokenizer.tokenize(word_tokenize(text))\n",
    "    return tokens\n",
    "\n",
    "cleaned_df['book_details'] = cleaned_df['book_details'].apply(tokenize_text)"
   ]
  },
  {
   "cell_type": "code",
   "execution_count": 15,
   "metadata": {
    "execution": {
     "iopub.execute_input": "2024-12-25T06:30:57.349420Z",
     "iopub.status.busy": "2024-12-25T06:30:57.348913Z",
     "iopub.status.idle": "2024-12-25T06:30:59.308325Z",
     "shell.execute_reply": "2024-12-25T06:30:59.306924Z",
     "shell.execute_reply.started": "2024-12-25T06:30:57.349368Z"
    },
    "trusted": true
   },
   "outputs": [],
   "source": [
    "# remove stopwords\n",
    "def remove_stopwords(tokens):\n",
    "    stop_words = set(stopwords.words('english'))\n",
    "    return [word for word in tokens if word not in stop_words]\n",
    "\n",
    "cleaned_df['book_details'] = cleaned_df['book_details'].apply(remove_stopwords)"
   ]
  },
  {
   "cell_type": "code",
   "execution_count": 17,
   "metadata": {
    "execution": {
     "iopub.execute_input": "2024-12-25T06:31:00.859841Z",
     "iopub.status.busy": "2024-12-25T06:31:00.859477Z",
     "iopub.status.idle": "2024-12-25T06:34:44.644226Z",
     "shell.execute_reply": "2024-12-25T06:34:44.642456Z",
     "shell.execute_reply.started": "2024-12-25T06:31:00.859798Z"
    },
    "trusted": true
   },
   "outputs": [],
   "source": [
    "#lemmatize token\n",
    "def lemmatize_tokens(tokens):\n",
    "    tokens_str = nlp_model(' '.join(tokens))\n",
    "    tokens_li = [word for word in tokens_str]\n",
    "    return \" \".join([token.lemma_ for token in tokens_li])\n",
    "\n",
    "cleaned_df['book_details'] = cleaned_df['book_details'].apply(lambda x : lemmatize_tokens(x))"
   ]
  },
  {
   "cell_type": "code",
   "execution_count": 16,
   "metadata": {
    "execution": {
     "iopub.execute_input": "2024-12-25T06:30:59.310552Z",
     "iopub.status.busy": "2024-12-25T06:30:59.310172Z",
     "iopub.status.idle": "2024-12-25T06:31:00.858124Z",
     "shell.execute_reply": "2024-12-25T06:31:00.857043Z",
     "shell.execute_reply.started": "2024-12-25T06:30:59.310513Z"
    },
    "trusted": true
   },
   "outputs": [
    {
     "data": {
      "text/plain": [
       "<spacy_language_detection.spacy_language_detector.LanguageDetector at 0x7b6d005ed7e0>"
      ]
     },
     "execution_count": 16,
     "metadata": {},
     "output_type": "execute_result"
    }
   ],
   "source": [
    "# preparing language detector\n",
    "nlp_model = spacy.load(\"en_core_web_sm\")\n",
    "\n",
    "def get_lang_detector(nlp, name):\n",
    "    return LanguageDetector(seed=42)\n",
    "\n",
    "Language.factory(\"language_detector_1\", func=get_lang_detector)\n",
    "nlp_model.add_pipe('language_detector_1', last=True)"
   ]
  },
  {
   "cell_type": "code",
   "execution_count": 18,
   "metadata": {
    "execution": {
     "iopub.execute_input": "2024-12-25T06:34:44.646701Z",
     "iopub.status.busy": "2024-12-25T06:34:44.646325Z",
     "iopub.status.idle": "2024-12-25T06:39:52.459666Z",
     "shell.execute_reply": "2024-12-25T06:39:52.458183Z",
     "shell.execute_reply.started": "2024-12-25T06:34:44.646666Z"
    },
    "trusted": true
   },
   "outputs": [],
   "source": [
    "# checking language of description\n",
    "def check_language(x):\n",
    "    doc = nlp_model(x)\n",
    "    detect_language = doc._.language  \n",
    "    return detect_language['language'] == 'en'\n",
    "\n",
    "cleaned_df['english_language'] = cleaned_df['book_details'].apply(lambda x: check_language(x))"
   ]
  },
  {
   "cell_type": "code",
   "execution_count": 19,
   "metadata": {
    "execution": {
     "iopub.execute_input": "2024-12-25T06:39:52.462295Z",
     "iopub.status.busy": "2024-12-25T06:39:52.461436Z",
     "iopub.status.idle": "2024-12-25T06:39:52.475156Z",
     "shell.execute_reply": "2024-12-25T06:39:52.473883Z",
     "shell.execute_reply.started": "2024-12-25T06:39:52.462239Z"
    },
    "trusted": true
   },
   "outputs": [
    {
     "data": {
      "text/plain": [
       "english_language\n",
       "True     10833\n",
       "False      607\n",
       "Name: count, dtype: int64"
      ]
     },
     "execution_count": 19,
     "metadata": {},
     "output_type": "execute_result"
    }
   ],
   "source": [
    "cleaned_df['english_language'].value_counts()"
   ]
  },
  {
   "cell_type": "code",
   "execution_count": 22,
   "metadata": {
    "execution": {
     "iopub.execute_input": "2024-12-25T06:41:22.621455Z",
     "iopub.status.busy": "2024-12-25T06:41:22.621045Z",
     "iopub.status.idle": "2024-12-25T06:41:22.633933Z",
     "shell.execute_reply": "2024-12-25T06:41:22.632667Z",
     "shell.execute_reply.started": "2024-12-25T06:41:22.621416Z"
    },
    "trusted": true
   },
   "outputs": [],
   "source": [
    "# filter description based on english language\n",
    "cleaned_df = cleaned_df[cleaned_df['english_language']].drop(columns = 'english_language')"
   ]
  },
  {
   "cell_type": "markdown",
   "metadata": {},
   "source": [
    "# EDA"
   ]
  },
  {
   "cell_type": "code",
   "execution_count": 23,
   "metadata": {
    "execution": {
     "iopub.execute_input": "2024-12-25T06:41:25.397100Z",
     "iopub.status.busy": "2024-12-25T06:41:25.395916Z",
     "iopub.status.idle": "2024-12-25T06:41:25.404641Z",
     "shell.execute_reply": "2024-12-25T06:41:25.403242Z",
     "shell.execute_reply.started": "2024-12-25T06:41:25.397039Z"
    },
    "trusted": true
   },
   "outputs": [
    {
     "data": {
      "text/plain": [
       "(11440, 6)"
      ]
     },
     "execution_count": 23,
     "metadata": {},
     "output_type": "execute_result"
    }
   ],
   "source": [
    "df.shape"
   ]
  },
  {
   "cell_type": "code",
   "execution_count": 24,
   "metadata": {
    "execution": {
     "iopub.execute_input": "2024-12-25T06:41:30.868477Z",
     "iopub.status.busy": "2024-12-25T06:41:30.868091Z",
     "iopub.status.idle": "2024-12-25T06:41:31.114212Z",
     "shell.execute_reply": "2024-12-25T06:41:31.112308Z",
     "shell.execute_reply.started": "2024-12-25T06:41:30.868443Z"
    },
    "trusted": true
   },
   "outputs": [
    {
     "data": {
      "text/plain": [
       "<Axes: title={'center': 'Label Genre'}>"
      ]
     },
     "execution_count": 24,
     "metadata": {},
     "output_type": "execute_result"
    },
    {
     "data": {
      "image/png": "[encoded data removed]",
      "text/plain": [
       "<Figure size 640x480 with 1 Axes>"
      ]
     },
     "metadata": {},
     "output_type": "display_data"
    }
   ],
   "source": [
    "# display the proportion of categories\n",
    "label_cols = ['Fantasy','Young Adult','Classics','Romance','Historical Fiction']\n",
    "df[label_cols].sum().plot(kind = 'pie', autopct = '%.2f%%', title = 'Label Genre')"
   ]
  },
  {
   "cell_type": "code",
   "execution_count": 25,
   "metadata": {
    "execution": {
     "iopub.execute_input": "2024-12-25T06:41:32.072605Z",
     "iopub.status.busy": "2024-12-25T06:41:32.072184Z",
     "iopub.status.idle": "2024-12-25T06:41:32.333059Z",
     "shell.execute_reply": "2024-12-25T06:41:32.331766Z",
     "shell.execute_reply.started": "2024-12-25T06:41:32.072569Z"
    },
    "trusted": true
   },
   "outputs": [
    {
     "data": {
      "text/plain": [
       "<Axes: title={'center': \"Book's label counts\"}>"
      ]
     },
     "execution_count": 25,
     "metadata": {},
     "output_type": "execute_result"
    },
    {
     "data": {
      "image/png": "[encoded data removed]",
      "text/plain": [
       "<Figure size 640x480 with 1 Axes>"
      ]
     },
     "metadata": {},
     "output_type": "display_data"
    }
   ],
   "source": [
    "# displaying the proportion of book's total labels\n",
    "df[label_cols].sum(axis = 1).value_counts().plot(kind = 'bar', title = 'Book\\'s label counts' )"
   ]
  },
  {
   "cell_type": "markdown",
   "metadata": {},
   "source": [
    "## Data split"
   ]
  },
  {
   "cell_type": "code",
   "execution_count": 33,
   "metadata": {
    "execution": {
     "iopub.execute_input": "2024-12-25T06:46:48.377161Z",
     "iopub.status.busy": "2024-12-25T06:46:48.376680Z",
     "iopub.status.idle": "2024-12-25T06:46:48.388550Z",
     "shell.execute_reply": "2024-12-25T06:46:48.387429Z",
     "shell.execute_reply.started": "2024-12-25T06:46:48.377122Z"
    },
    "trusted": true
   },
   "outputs": [],
   "source": [
    "train , val = train_test_split(cleaned_df,test_size=0.10,random_state=42)"
   ]
  },
  {
   "cell_type": "code",
   "execution_count": 34,
   "metadata": {
    "execution": {
     "iopub.execute_input": "2024-12-25T06:46:49.830644Z",
     "iopub.status.busy": "2024-12-25T06:46:49.830115Z",
     "iopub.status.idle": "2024-12-25T06:46:50.041800Z",
     "shell.execute_reply": "2024-12-25T06:46:50.040733Z",
     "shell.execute_reply.started": "2024-12-25T06:46:49.830594Z"
    },
    "trusted": true
   },
   "outputs": [],
   "source": [
    "train.to_csv('train.csv')\n",
    "val.to_csv('val.csv')"
   ]
  },
  {
   "cell_type": "code",
   "execution_count": null,
   "metadata": {
    "trusted": true
   },
   "outputs": [],
   "source": []
  }
 ],
 "metadata": {
  "kaggle": {
   "accelerator": "none",
   "dataSources": [
    {
     "datasetId": 5030050,
     "sourceId": 8442672,
     "sourceType": "datasetVersion"
    }
   ],
   "dockerImageVersionId": 30775,
   "isGpuEnabled": false,
   "isInternetEnabled": true,
   "language": "python",
   "sourceType": "notebook"
  },
  "kernelspec": {
   "display_name": "Python 3",
   "language": "python",
   "name": "python3"
  },
  "language_info": {
   "codemirror_mode": {
    "name": "ipython",
    "version": 3
   },
   "file_extension": ".py",
   "mimetype": "text/x-python",
   "name": "python",
   "nbconvert_exporter": "python",
   "pygments_lexer": "ipython3",
   "version": "3.10.14"
  }
 },
 "nbformat": 4,
 "nbformat_minor": 4
}
