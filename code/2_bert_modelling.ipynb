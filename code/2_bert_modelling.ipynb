{
 "cells": [
  {
   "cell_type": "markdown",
   "metadata": {},
   "source": [
    "## Preparing Dataset & Library"
   ]
  },
  {
   "cell_type": "code",
   "execution_count": 1,
   "metadata": {
    "_cell_guid": "b1076dfc-b9ad-4769-8c92-a6c4dae69d19",
    "_uuid": "8f2839f25d086af736a60e9eeb907d3b93b6e0e5",
    "execution": {
     "iopub.execute_input": "2024-12-01T03:17:01.898753Z",
     "iopub.status.busy": "2024-12-01T03:17:01.898407Z",
     "iopub.status.idle": "2024-12-01T03:17:07.734827Z",
     "shell.execute_reply": "2024-12-01T03:17:07.734096Z",
     "shell.execute_reply.started": "2024-12-01T03:17:01.898726Z"
    },
    "trusted": true
   },
   "outputs": [],
   "source": [
    "import numpy as np\n",
    "import pandas as pd\n",
    "import matplotlib.pyplot as plt\n",
    "import seaborn as sns\n",
    "from collections import Counter\n",
    "import torch\n",
    "import torch.nn as nn\n",
    "from torch.utils.data.dataset import Dataset\n",
    "from torch.utils.data import TensorDataset, DataLoader\n",
    "from transformers import AutoTokenizer, AutoModel, get_linear_schedule_with_warmup\n",
    "from sklearn.model_selection import train_test_split\n",
    "from sklearn.metrics import hamming_loss,f1_score,precision_score,recall_score,accuracy_score\n",
    "from sklearn.model_selection import KFold\n",
    "import tqdm.notebook as tq\n",
    "\n",
    "val_data = pd.read_csv('../data/val.csv',index_col = 'book_title')\n",
    "train_data = pd.read_csv('../data/train.csv',index_col = 'book_title')\n",
    "\n",
    "device = torch.device('cuda')"
   ]
  },
  {
   "cell_type": "markdown",
   "metadata": {},
   "source": [
    "## Tokenized dataset"
   ]
  },
  {
   "cell_type": "code",
   "execution_count": 2,
   "metadata": {
    "execution": {
     "iopub.execute_input": "2024-12-01T03:17:07.736518Z",
     "iopub.status.busy": "2024-12-01T03:17:07.736236Z",
     "iopub.status.idle": "2024-12-01T03:17:07.743653Z",
     "shell.execute_reply": "2024-12-01T03:17:07.742435Z",
     "shell.execute_reply.started": "2024-12-01T03:17:07.736492Z"
    },
    "trusted": true
   },
   "outputs": [],
   "source": [
    "class bookDataset(Dataset):\n",
    "    # for retrieving input IDs, attention mask, and token type ID, label and books detail\n",
    "    def __init__(self,data, tokenizer, max_len, labels):\n",
    "        self.tokenizer = tokenizer\n",
    "        self.data = data\n",
    "        self.book_details = list(data['book_details'])\n",
    "        self.labels = self.data[labels].values\n",
    "        self.max_len = max_len\n",
    "        \n",
    "    def __len__(self):\n",
    "        return len(self.book_details)\n",
    "\n",
    "    def __getitem__(self,index):\n",
    "        book_desc = str(self.book_details[index])\n",
    "        book_desc = \" \".join(book_desc.split())\n",
    "        inputs = self.tokenizer.encode_plus(\n",
    "            book_desc,\n",
    "            None,\n",
    "            add_special_tokens = True,\n",
    "            max_length = self.max_len,\n",
    "            padding = 'max_length',\n",
    "            return_token_type_ids= True,\n",
    "            truncation = True,\n",
    "            return_attention_mask =True,\n",
    "            return_tensors = 'pt'\n",
    "        )\n",
    "        return {\n",
    "            'input_ids': inputs['input_ids'].flatten(),\n",
    "            'attention_mask': inputs['attention_mask'].flatten(),\n",
    "            'token_type_ids': inputs[\"token_type_ids\"].flatten(),\n",
    "            'labels': torch.FloatTensor(self.labels[index]),\n",
    "            'book_details': book_desc\n",
    "        }\n",
    "        "
   ]
  },
  {
   "cell_type": "code",
   "execution_count": 3,
   "metadata": {
    "execution": {
     "iopub.execute_input": "2024-12-01T03:17:07.745033Z",
     "iopub.status.busy": "2024-12-01T03:17:07.744749Z",
     "iopub.status.idle": "2024-12-01T03:17:08.462914Z",
     "shell.execute_reply": "2024-12-01T03:17:08.462059Z",
     "shell.execute_reply.started": "2024-12-01T03:17:07.745009Z"
    },
    "trusted": true
   },
   "outputs": [
    {
     "data": {
      "application/vnd.jupyter.widget-view+json": {
       "model_id": "daedbc63f0a2481c9494b3042b48bbf5",
       "version_major": 2,
       "version_minor": 0
      },
      "text/plain": [
       "tokenizer_config.json:   0%|          | 0.00/48.0 [00:00<?, ?B/s]"
      ]
     },
     "metadata": {},
     "output_type": "display_data"
    },
    {
     "data": {
      "application/vnd.jupyter.widget-view+json": {
       "model_id": "c8562831e0de40519dfcb5eef5aa40d4",
       "version_major": 2,
       "version_minor": 0
      },
      "text/plain": [
       "config.json:   0%|          | 0.00/570 [00:00<?, ?B/s]"
      ]
     },
     "metadata": {},
     "output_type": "display_data"
    },
    {
     "data": {
      "application/vnd.jupyter.widget-view+json": {
       "model_id": "5bd3fe2b87e3421caa988c3c44691aa1",
       "version_major": 2,
       "version_minor": 0
      },
      "text/plain": [
       "vocab.txt:   0%|          | 0.00/232k [00:00<?, ?B/s]"
      ]
     },
     "metadata": {},
     "output_type": "display_data"
    },
    {
     "data": {
      "application/vnd.jupyter.widget-view+json": {
       "model_id": "6c1ab0399ec34db79e7f80cc92331fe3",
       "version_major": 2,
       "version_minor": 0
      },
      "text/plain": [
       "tokenizer.json:   0%|          | 0.00/466k [00:00<?, ?B/s]"
      ]
     },
     "metadata": {},
     "output_type": "display_data"
    },
    {
     "name": "stderr",
     "output_type": "stream",
     "text": [
      "/opt/conda/lib/python3.10/site-packages/transformers/tokenization_utils_base.py:1617: FutureWarning: `clean_up_tokenization_spaces` was not set. It will be set to `True` by default. This behavior will be deprecated in transformers v4.45, and will be then set to `False` by default. For more details check this issue: https://github.com/huggingface/transformers/issues/31884\n",
      "  warnings.warn(\n"
     ]
    }
   ],
   "source": [
    "max_length = 75 \n",
    "cols_list = list(train_data.columns[1:]) #  label : Fantasy, Young Adult, Classics, Romance, dan Historical Fiction\n",
    "tokenizer = AutoTokenizer.from_pretrained(\"google-bert/bert-base-uncased\") "
   ]
  },
  {
   "cell_type": "code",
   "execution_count": 4,
   "metadata": {
    "execution": {
     "iopub.execute_input": "2024-12-01T03:17:08.465816Z",
     "iopub.status.busy": "2024-12-01T03:17:08.465169Z",
     "iopub.status.idle": "2024-12-01T03:17:08.474106Z",
     "shell.execute_reply": "2024-12-01T03:17:08.473199Z",
     "shell.execute_reply.started": "2024-12-01T03:17:08.465774Z"
    },
    "trusted": true
   },
   "outputs": [],
   "source": [
    "# set train and validation dataset\n",
    "train_dataset = bookDataset(train_data, tokenizer,max_length,cols_list)\n",
    "validation_dataset = bookDataset(val_data, tokenizer,max_length,cols_list)"
   ]
  },
  {
   "cell_type": "code",
   "execution_count": 5,
   "metadata": {
    "execution": {
     "iopub.execute_input": "2024-12-01T03:17:08.476299Z",
     "iopub.status.busy": "2024-12-01T03:17:08.475464Z",
     "iopub.status.idle": "2024-12-01T03:17:08.485345Z",
     "shell.execute_reply": "2024-12-01T03:17:08.484549Z",
     "shell.execute_reply.started": "2024-12-01T03:17:08.476272Z"
    },
    "trusted": true
   },
   "outputs": [],
   "source": [
    "# set the data loader\n",
    "train_dataLoader = DataLoader(train_dataset, batch_size = 32, shuffle = True,num_workers=4, pin_memory=True)\n",
    "validation_dataloader = DataLoader(validation_dataset, batch_size = 32, shuffle = False, num_workers=4, pin_memory=True)"
   ]
  },
  {
   "cell_type": "markdown",
   "metadata": {},
   "source": [
    "## Build Model BERT 1"
   ]
  },
  {
   "cell_type": "code",
   "execution_count": 6,
   "metadata": {
    "execution": {
     "iopub.execute_input": "2024-12-01T03:17:17.042553Z",
     "iopub.status.busy": "2024-12-01T03:17:17.041608Z",
     "iopub.status.idle": "2024-12-01T03:17:21.770022Z",
     "shell.execute_reply": "2024-12-01T03:17:21.769184Z",
     "shell.execute_reply.started": "2024-12-01T03:17:17.042503Z"
    },
    "trusted": true
   },
   "outputs": [
    {
     "data": {
      "application/vnd.jupyter.widget-view+json": {
       "model_id": "27aca469e1b447859acd10a051b3e741",
       "version_major": 2,
       "version_minor": 0
      },
      "text/plain": [
       "model.safetensors:   0%|          | 0.00/440M [00:00<?, ?B/s]"
      ]
     },
     "metadata": {},
     "output_type": "display_data"
    },
    {
     "data": {
      "text/plain": [
       "BERTModel(\n",
       "  (model): BertModel(\n",
       "    (embeddings): BertEmbeddings(\n",
       "      (word_embeddings): Embedding(30522, 768, padding_idx=0)\n",
       "      (position_embeddings): Embedding(512, 768)\n",
       "      (token_type_embeddings): Embedding(2, 768)\n",
       "      (LayerNorm): LayerNorm((768,), eps=1e-12, elementwise_affine=True)\n",
       "      (dropout): Dropout(p=0.1, inplace=False)\n",
       "    )\n",
       "    (encoder): BertEncoder(\n",
       "      (layer): ModuleList(\n",
       "        (0-11): 12 x BertLayer(\n",
       "          (attention): BertAttention(\n",
       "            (self): BertSdpaSelfAttention(\n",
       "              (query): Linear(in_features=768, out_features=768, bias=True)\n",
       "              (key): Linear(in_features=768, out_features=768, bias=True)\n",
       "              (value): Linear(in_features=768, out_features=768, bias=True)\n",
       "              (dropout): Dropout(p=0.1, inplace=False)\n",
       "            )\n",
       "            (output): BertSelfOutput(\n",
       "              (dense): Linear(in_features=768, out_features=768, bias=True)\n",
       "              (LayerNorm): LayerNorm((768,), eps=1e-12, elementwise_affine=True)\n",
       "              (dropout): Dropout(p=0.1, inplace=False)\n",
       "            )\n",
       "          )\n",
       "          (intermediate): BertIntermediate(\n",
       "            (dense): Linear(in_features=768, out_features=3072, bias=True)\n",
       "            (intermediate_act_fn): GELUActivation()\n",
       "          )\n",
       "          (output): BertOutput(\n",
       "            (dense): Linear(in_features=3072, out_features=768, bias=True)\n",
       "            (LayerNorm): LayerNorm((768,), eps=1e-12, elementwise_affine=True)\n",
       "            (dropout): Dropout(p=0.1, inplace=False)\n",
       "          )\n",
       "        )\n",
       "      )\n",
       "    )\n",
       "    (pooler): BertPooler(\n",
       "      (dense): Linear(in_features=768, out_features=768, bias=True)\n",
       "      (activation): Tanh()\n",
       "    )\n",
       "  )\n",
       "  (dropout1): Dropout(p=0.5, inplace=False)\n",
       "  (linear1): Linear(in_features=768, out_features=312, bias=True)\n",
       "  (dropout2): Dropout(p=0.5, inplace=False)\n",
       "  (linear2): Linear(in_features=312, out_features=128, bias=True)\n",
       "  (dropout3): Dropout(p=0.5, inplace=False)\n",
       "  (linear3): Linear(in_features=128, out_features=5, bias=True)\n",
       "  (leakyrelu): LeakyReLU(negative_slope=0.015)\n",
       "  (bn1): BatchNorm1d(768, eps=1e-05, momentum=0.1, affine=True, track_running_stats=True)\n",
       "  (bn2): BatchNorm1d(312, eps=1e-05, momentum=0.1, affine=True, track_running_stats=True)\n",
       "  (bn3): BatchNorm1d(128, eps=1e-05, momentum=0.1, affine=True, track_running_stats=True)\n",
       ")"
      ]
     },
     "execution_count": 6,
     "metadata": {},
     "output_type": "execute_result"
    }
   ],
   "source": [
    "class BERTModel(torch.nn.Module):\n",
    "    def __init__(self):\n",
    "        super(BERTModel, self).__init__()\n",
    "        self.model = AutoModel.from_pretrained(\"google-bert/bert-base-uncased\", return_dict=True)\n",
    "        self.dropout1 = nn.Dropout(0.5)\n",
    "        self.linear1 = nn.Linear(768, 312)\n",
    "        \n",
    "        self.dropout2 = nn.Dropout(0.5)\n",
    "        self.linear2 = nn.Linear(312, 128)\n",
    "\n",
    "        self.dropout3 = nn.Dropout(0.5)\n",
    "        self.linear3 = nn.Linear(128, 5)\n",
    "\n",
    "        self.leakyrelu = nn.LeakyReLU(negative_slope=0.015)\n",
    "        self.bn1 = nn.BatchNorm1d(768)\n",
    "        self.bn2 = nn.BatchNorm1d(312)\n",
    "        self.bn3 = nn.BatchNorm1d(128)\n",
    "\n",
    "    def forward(self, input_ids, attention_mask, token_type_ids):\n",
    "        output = self.model(input_ids, attention_mask=attention_mask, token_type_ids=token_type_ids)\n",
    "        output = output.last_hidden_state[:, 0, :]\n",
    "\n",
    "        output = self.bn1(output) #num features : 768\n",
    "        output = self.leakyrelu(output) # neg.slope : 0.015\n",
    "        output = self.dropout1(output) # dropout : 50%\n",
    "        output = self.linear1(output) # input : 768, output : 312\n",
    "        \n",
    "        output = self.bn2(output) #num features : 312\n",
    "        output = self.leakyrelu(output)# neg.slope : 0.015\n",
    "        output = self.dropout2(output) # dropout : 50%\n",
    "        output = self.linear2(output) # input : 312, output : 128\n",
    "\n",
    "        output = self.bn3(output) #num features : 128\n",
    "        output = self.leakyrelu(output)# neg.slope : 0.015\n",
    "        output = self.dropout3(output) # dropout : 50%\n",
    "        output = self.linear3(output) # input : 128, output : 5\n",
    "        \n",
    "        return output\n",
    "        \n",
    "model = BERTModel()\n",
    "model.to(device)"
   ]
  },
  {
   "cell_type": "code",
   "execution_count": 7,
   "metadata": {
    "execution": {
     "iopub.execute_input": "2024-12-01T03:17:21.797749Z",
     "iopub.status.busy": "2024-12-01T03:17:21.797537Z",
     "iopub.status.idle": "2024-12-01T03:17:21.803838Z",
     "shell.execute_reply": "2024-12-01T03:17:21.802919Z",
     "shell.execute_reply.started": "2024-12-01T03:17:21.797726Z"
    },
    "trusted": true
   },
   "outputs": [],
   "source": [
    "# early stopping\n",
    "# Anticipate model overfitting scenario based on the score of the model, \n",
    "#  the model will stop the training process if the loss / score doesn't improve for a specified number of epochs\n",
    "class EarlyStopping:  \n",
    "    def __init__(self, patience=5, delta=0):\n",
    "        self.patience = patience\n",
    "        self.delta = delta\n",
    "        self.best_score = None\n",
    "        self.early_stop = False\n",
    "        self.counter = 0\n",
    "        self.best_model_state = None\n",
    "\n",
    "    def __call__(self, val_loss, model):\n",
    "        score = -val_loss\n",
    "        if self.best_score is None:\n",
    "            self.best_score = score\n",
    "            self.best_model_state = model.state_dict()\n",
    "        elif score < self.best_score + self.delta:\n",
    "            self.counter += 1\n",
    "            if self.counter >= self.patience:\n",
    "                self.early_stop = True\n",
    "        else:\n",
    "            self.best_score = score\n",
    "            self.best_model_state = model.state_dict()\n",
    "            self.counter = 0\n",
    "\n",
    "    def load_best_model(self, model):\n",
    "        model.load_state_dict(self.best_model_state)"
   ]
  },
  {
   "cell_type": "code",
   "execution_count": 8,
   "metadata": {
    "execution": {
     "iopub.execute_input": "2024-12-01T03:17:21.805443Z",
     "iopub.status.busy": "2024-12-01T03:17:21.805117Z",
     "iopub.status.idle": "2024-12-01T03:17:22.191329Z",
     "shell.execute_reply": "2024-12-01T03:17:22.190640Z",
     "shell.execute_reply.started": "2024-12-01T03:17:21.805417Z"
    },
    "trusted": true
   },
   "outputs": [],
   "source": [
    "# set optimizer, scheduler, error loss and early stopping\n",
    "optimizer = torch.optim.AdamW(params =  model.parameters(), lr=1e-5, weight_decay=1e-3) \n",
    "scheduler = torch.optim.lr_scheduler.CosineAnnealingWarmRestarts(optimizer,T_0 = 6, T_mult = 1)\n",
    "bce = nn.BCEWithLogitsLoss()\n",
    "\n",
    "early_stopping = EarlyStopping(patience=5, delta=0.01)"
   ]
  },
  {
   "cell_type": "code",
   "execution_count": 9,
   "metadata": {
    "execution": {
     "iopub.execute_input": "2024-12-01T03:17:26.611402Z",
     "iopub.status.busy": "2024-12-01T03:17:26.610855Z",
     "iopub.status.idle": "2024-12-01T03:17:26.619828Z",
     "shell.execute_reply": "2024-12-01T03:17:26.618959Z",
     "shell.execute_reply.started": "2024-12-01T03:17:26.611369Z"
    },
    "trusted": true
   },
   "outputs": [],
   "source": [
    "# set training function and evaluation function\n",
    "def train(loader, model, optimizer = optimizer , loss_fn = bce, scheduler = scheduler):\n",
    "    # Trains a model using a data loader by iterating over batches, computing the loss, and updating the model’s weights. \n",
    "    # It uses mixed precision for efficiency, clips gradients to prevent exploding gradients, \n",
    "    # and adjusts the learning rate based on the average loss.\n",
    "    loss_Li = []\n",
    "    max_grad_norm = 0.5 \n",
    "    \n",
    "    model.train()\n",
    "    for idx, data in enumerate(loader):\n",
    "        ids = data['input_ids'].to(device, dtype=torch.long)\n",
    "        mask = data['attention_mask'].to(device, dtype=torch.long)\n",
    "        token_type_ids = data['token_type_ids'].to(device, dtype=torch.long)\n",
    "        labels = data['labels'].to(device, dtype=torch.float)\n",
    "        optimizer.zero_grad()\n",
    "        \n",
    "        with torch.amp.autocast('cuda'):\n",
    "            output = model(ids, mask, token_type_ids)\n",
    "            loss = loss_fn(output, labels)\n",
    "            loss_Li.append(loss.item())\n",
    "        \n",
    "        loss.backward()\n",
    "        nn.utils.clip_grad_norm_(model.parameters(), max_norm=max_grad_norm)\n",
    "        optimizer.step()\n",
    "    scheduler.step(np.mean(loss_Li))\n",
    "    \n",
    "    return model, np.mean(loss_Li)\n",
    "\n",
    "def eval(loader, model, loss_fn = bce):\n",
    "    loss_Li = []\n",
    "    model.eval()\n",
    "    with torch.no_grad():\n",
    "        for idx, data in enumerate(loader, 0):\n",
    "            ids = data['input_ids'].to(device, dtype=torch.long)\n",
    "            mask = data['attention_mask'].to(device, dtype=torch.long)\n",
    "            token_type_ids = data['token_type_ids'].to(device, dtype=torch.long)\n",
    "            labels = data['labels'].to(device, dtype=torch.float)\n",
    "            \n",
    "            output = model(ids, mask, token_type_ids)\n",
    "            loss = loss_fn(output, labels)\n",
    "            loss_Li.append(loss.item())\n",
    "            \n",
    "    return  np.mean(loss_Li)"
   ]
  },
  {
   "cell_type": "code",
   "execution_count": 10,
   "metadata": {
    "execution": {
     "iopub.execute_input": "2024-12-01T03:17:28.084705Z",
     "iopub.status.busy": "2024-12-01T03:17:28.084375Z",
     "iopub.status.idle": "2024-12-01T03:17:28.091249Z",
     "shell.execute_reply": "2024-12-01T03:17:28.090208Z",
     "shell.execute_reply.started": "2024-12-01T03:17:28.084677Z"
    },
    "trusted": true
   },
   "outputs": [],
   "source": [
    "# build model fitting function \n",
    "def fitting(model, model_props, total_epochs):\n",
    "    \"\"\"\n",
    "    Trains and validates a model over multiple epochs with early stopping.\n",
    "    \"\"\"\n",
    "    histories = {metr : [] for metr in ['train_loss','val_loss']}\n",
    "\n",
    "    train_loader, validation_loader = model_props['loader_list']\n",
    "    optimizer = model_props['optimizer']\n",
    "    loss_fn = model_props['loss_fn']\n",
    "    scheduler = model_props['scheduler']\n",
    "    early_stopping = model_props['early_stopping']\n",
    "    \n",
    "    \n",
    "    for epoch in range(1,total_epochs+1):\n",
    "        print('='*80)\n",
    "        print(f'Epoch {epoch}/{total_epochs}')\n",
    "        model, train_loss = train(train_loader, model,optimizer,loss_fn,scheduler)\n",
    "        val_loss = eval(validation_loader, model,loss_fn)\n",
    "    \n",
    "        print(f'train loss : {train_loss}')\n",
    "        print(f'validation loss : {val_loss}')\n",
    "    \n",
    "        histories['train_loss'].append(train_loss)\n",
    "        histories['val_loss'].append(val_loss)\n",
    "    \n",
    "        early_stopping(val_loss, model)\n",
    "        if early_stopping.early_stop:\n",
    "            print(\"Early stopping\")\n",
    "            break\n",
    "    return histories, model "
   ]
  },
  {
   "cell_type": "markdown",
   "metadata": {},
   "source": [
    "## Fitting model "
   ]
  },
  {
   "cell_type": "code",
   "execution_count": 20,
   "metadata": {
    "execution": {
     "iopub.execute_input": "2024-12-01T02:26:35.648789Z",
     "iopub.status.busy": "2024-12-01T02:26:35.648434Z",
     "iopub.status.idle": "2024-12-01T02:41:55.815699Z",
     "shell.execute_reply": "2024-12-01T02:41:55.814572Z",
     "shell.execute_reply.started": "2024-12-01T02:26:35.648758Z"
    },
    "trusted": true
   },
   "outputs": [
    {
     "name": "stdout",
     "output_type": "stream",
     "text": [
      "================================================================================\n",
      "Epoch 1/30\n",
      "train loss : 0.7061695147733219\n",
      "validation loss : 0.6265919173465055\n",
      "================================================================================\n",
      "Epoch 2/30\n",
      "train loss : 0.6163277065167662\n",
      "validation loss : 0.5688852001638973\n",
      "================================================================================\n",
      "Epoch 3/30\n",
      "train loss : 0.557444682668467\n",
      "validation loss : 0.5160026927204693\n",
      "================================================================================\n",
      "Epoch 4/30\n",
      "train loss : 0.5079871986733109\n",
      "validation loss : 0.4918694724054897\n",
      "================================================================================\n",
      "Epoch 5/30\n",
      "train loss : 0.4714046121620741\n",
      "validation loss : 0.4588082809658611\n",
      "================================================================================\n",
      "Epoch 6/30\n",
      "train loss : 0.4370067596435547\n",
      "validation loss : 0.44181833810666027\n",
      "================================================================================\n",
      "Epoch 7/30\n",
      "train loss : 0.40559151485318046\n",
      "validation loss : 0.4053046431611566\n",
      "================================================================================\n",
      "Epoch 8/30\n",
      "train loss : 0.3740337345443788\n",
      "validation loss : 0.40190526930724874\n",
      "================================================================================\n",
      "Epoch 9/30\n",
      "train loss : 0.3490706555178908\n",
      "validation loss : 0.3879077715032241\n",
      "================================================================================\n",
      "Epoch 10/30\n",
      "train loss : 0.3213541121756444\n",
      "validation loss : 0.36934374097515554\n",
      "================================================================================\n",
      "Epoch 11/30\n",
      "train loss : 0.3025454748360837\n",
      "validation loss : 0.3760920333511689\n",
      "================================================================================\n",
      "Epoch 12/30\n",
      "train loss : 0.28087251919214845\n",
      "validation loss : 0.36248379595139446\n",
      "================================================================================\n",
      "Epoch 13/30\n",
      "train loss : 0.2634568069801956\n",
      "validation loss : 0.3590995520353317\n",
      "================================================================================\n",
      "Epoch 14/30\n",
      "train loss : 0.24552588096407593\n",
      "validation loss : 0.34816602091578874\n",
      "================================================================================\n",
      "Epoch 15/30\n",
      "train loss : 0.23000616216268696\n",
      "validation loss : 0.35515759885311127\n",
      "================================================================================\n",
      "Epoch 16/30\n",
      "train loss : 0.21652933720682488\n",
      "validation loss : 0.3544723531779121\n",
      "================================================================================\n",
      "Epoch 17/30\n",
      "train loss : 0.20237544178962708\n",
      "validation loss : 0.3492555421064882\n",
      "================================================================================\n",
      "Epoch 18/30\n",
      "train loss : 0.19017348343231638\n",
      "validation loss : 0.34716937910108003\n",
      "================================================================================\n",
      "Epoch 19/30\n",
      "train loss : 0.17885875447851712\n",
      "validation loss : 0.3477634673609453\n",
      "Early stopping\n"
     ]
    }
   ],
   "source": [
    "# model props : set data loader, optimizer, loss function, scheduler and early stopping for model\n",
    "model_props = {\n",
    "    'loader_list':[train_dataLoader,validation_dataloader],\n",
    "    'optimizer':optimizer,\n",
    "    'loss_fn':bce,\n",
    "    'scheduler':scheduler,\n",
    "    'early_stopping': early_stopping\n",
    "}\n",
    "\n",
    "histories , model = fitting(model,model_props, 30)"
   ]
  },
  {
   "cell_type": "markdown",
   "metadata": {},
   "source": [
    "## Model evaluation"
   ]
  },
  {
   "cell_type": "markdown",
   "metadata": {},
   "source": [
    "### Model 1"
   ]
  },
  {
   "cell_type": "code",
   "execution_count": 12,
   "metadata": {
    "execution": {
     "iopub.execute_input": "2024-12-01T03:17:52.074811Z",
     "iopub.status.busy": "2024-12-01T03:17:52.074452Z",
     "iopub.status.idle": "2024-12-01T03:17:52.082263Z",
     "shell.execute_reply": "2024-12-01T03:17:52.081254Z",
     "shell.execute_reply.started": "2024-12-01T03:17:52.074772Z"
    },
    "trusted": true
   },
   "outputs": [],
   "source": [
    "def get_eval_metrics(loader, model):\n",
    "    y_pred = []\n",
    "    y_labels = []\n",
    "    \n",
    "    model.eval()\n",
    "    with torch.no_grad():\n",
    "        for idx, data in enumerate(loader, 0):\n",
    "            ids = data['input_ids'].to(device, dtype=torch.long)\n",
    "            mask = data['attention_mask'].to(device, dtype=torch.long)\n",
    "            token_type_ids = data['token_type_ids'].to(device, dtype=torch.long)\n",
    "            labels = data['labels'].to(device, dtype=torch.float)\n",
    "            \n",
    "            output = model(ids, mask, token_type_ids)\n",
    "            y_pred_temp = (torch.sigmoid(output) > 0.5).int()\n",
    "\n",
    "            y_labels.extend(labels.cpu().detach().numpy().tolist())\n",
    "            y_pred.extend(y_pred_temp.cpu().detach().numpy().tolist())\n",
    "\n",
    "\n",
    "    y_pred = np.array(y_pred)\n",
    "    y_labels = np.array(y_labels)\n",
    "    \n",
    "    eval_result = {\n",
    "        'hamming-loss' : hamming_loss(y_labels, y_pred),\n",
    "        'precision' : precision_score(y_labels, y_pred, average='micro', zero_division=0),\n",
    "        'recall' : recall_score(y_labels, y_pred, average='micro'),\n",
    "        'f1-score' : f1_score(y_labels, y_pred, average='micro')\n",
    "    }\n",
    "            \n",
    "    return  eval_result\n"
   ]
  },
  {
   "cell_type": "code",
   "execution_count": 25,
   "metadata": {
    "execution": {
     "iopub.execute_input": "2024-12-01T02:42:17.884786Z",
     "iopub.status.busy": "2024-12-01T02:42:17.883970Z",
     "iopub.status.idle": "2024-12-01T02:42:22.853851Z",
     "shell.execute_reply": "2024-12-01T02:42:22.852722Z",
     "shell.execute_reply.started": "2024-12-01T02:42:17.884754Z"
    },
    "trusted": true
   },
   "outputs": [
    {
     "name": "stdout",
     "output_type": "stream",
     "text": [
      "hamming-loss : 0.13394833948339482\n",
      "precision : 0.7459190915542938\n",
      "recall : 0.740662438336857\n",
      "f1-score : 0.7432814710042435\n"
     ]
    }
   ],
   "source": [
    "val_eval_metrics = get_eval_metrics(validation_dataloader, model)\n",
    "\n",
    "for metrics in val_eval_metrics : \n",
    "    print(f'{metrics} : {val_eval_metrics[metrics]}')"
   ]
  },
  {
   "cell_type": "code",
   "execution_count": 26,
   "metadata": {
    "execution": {
     "iopub.execute_input": "2024-12-01T02:42:22.856365Z",
     "iopub.status.busy": "2024-12-01T02:42:22.855963Z",
     "iopub.status.idle": "2024-12-01T02:42:23.132286Z",
     "shell.execute_reply": "2024-12-01T02:42:23.131448Z",
     "shell.execute_reply.started": "2024-12-01T02:42:22.856320Z"
    },
    "trusted": true
   },
   "outputs": [
    {
     "data": {
      "text/plain": [
       "Text(0.5, 1.0, 'loss learning curve')"
      ]
     },
     "execution_count": 26,
     "metadata": {},
     "output_type": "execute_result"
    },
    {
     "data": {
      "image/png": "[encoded data removed]",
      "text/plain": [
       "<Figure size 640x480 with 1 Axes>"
      ]
     },
     "metadata": {},
     "output_type": "display_data"
    }
   ],
   "source": [
    "epochs = range(1,len(histories['train_loss']) + 1)\n",
    "plt.plot(epochs, histories['train_loss'], label = 'train loss')\n",
    "plt.plot(epochs, histories['val_loss'], label = 'validation loss')\n",
    "plt.legend()\n",
    "plt.ylabel('loss')\n",
    "plt.xlabel('epochs')\n",
    "plt.title('loss learning curve')"
   ]
  },
  {
   "cell_type": "code",
   "execution_count": 33,
   "metadata": {
    "execution": {
     "iopub.execute_input": "2024-12-01T02:48:26.339945Z",
     "iopub.status.busy": "2024-12-01T02:48:26.339593Z",
     "iopub.status.idle": "2024-12-01T02:48:27.369485Z",
     "shell.execute_reply": "2024-12-01T02:48:27.368462Z",
     "shell.execute_reply.started": "2024-12-01T02:48:26.339915Z"
    },
    "trusted": true
   },
   "outputs": [
    {
     "name": "stdout",
     "output_type": "stream",
     "text": [
      "\u001b[H\u001b[2J"
     ]
    }
   ],
   "source": [
    "clear gpu ram device = cuda.select_device(1) device.reset()"
   ]
  },
  {
   "cell_type": "markdown",
   "metadata": {},
   "source": [
    "## Build BERT model 2"
   ]
  },
  {
   "cell_type": "markdown",
   "metadata": {},
   "source": [
    "### Hyperparameter tuning"
   ]
  },
  {
   "cell_type": "code",
   "execution_count": 13,
   "metadata": {
    "execution": {
     "iopub.execute_input": "2024-12-01T03:17:55.733904Z",
     "iopub.status.busy": "2024-12-01T03:17:55.733596Z",
     "iopub.status.idle": "2024-12-01T05:12:30.398386Z",
     "shell.execute_reply": "2024-12-01T05:12:30.397253Z",
     "shell.execute_reply.started": "2024-12-01T03:17:55.733878Z"
    },
    "trusted": true
   },
   "outputs": [
    {
     "name": "stderr",
     "output_type": "stream",
     "text": [
      "[I 2024-12-01 03:17:55,742] A new study created in memory with name: no-name-be0cdaaa-f910-47a5-80c6-ada0adc9f99a\n"
     ]
    },
    {
     "name": "stdout",
     "output_type": "stream",
     "text": [
      "================================================================================\n",
      "Epoch 1/30\n",
      "train loss : 0.6201872431180057\n",
      "validation loss : 0.5838960742249208\n",
      "================================================================================\n",
      "Epoch 2/30\n",
      "train loss : 0.5885680867176429\n",
      "validation loss : 0.5824730834540199\n",
      "================================================================================\n",
      "Epoch 3/30\n",
      "train loss : 0.5853586490539944\n",
      "validation loss : 0.5878802409359053\n",
      "================================================================================\n",
      "Epoch 4/30\n",
      "train loss : 0.5855398953837507\n",
      "validation loss : 0.581033225737366\n",
      "================================================================================\n",
      "Epoch 5/30\n",
      "train loss : 0.5834691793310876\n",
      "validation loss : 0.5845500061324999\n",
      "================================================================================\n",
      "Epoch 6/30\n",
      "train loss : 0.5824350133246067\n",
      "validation loss : 0.5776232381661733\n",
      "Early stopping\n",
      "================================================================================\n",
      "Epoch 1/30\n",
      "train loss : 0.6173810082323411\n",
      "validation loss : 0.6245915562498803\n",
      "================================================================================\n",
      "Epoch 2/30\n",
      "train loss : 0.5885128625759891\n",
      "validation loss : 0.5861072294852313\n",
      "================================================================================\n",
      "Epoch 3/30\n",
      "train loss : 0.5837598746898127\n",
      "validation loss : 0.5872150904992047\n",
      "================================================================================\n",
      "Epoch 4/30\n",
      "train loss : 0.5829690173268318\n",
      "validation loss : 0.5835594339113609\n",
      "================================================================================\n",
      "Epoch 5/30\n",
      "train loss : 0.582922207958558\n",
      "validation loss : 0.58222790471479\n",
      "================================================================================\n",
      "Epoch 6/30\n",
      "train loss : 0.5814397202110758\n",
      "validation loss : 0.5837832087395238\n",
      "================================================================================\n",
      "Epoch 7/30\n",
      "train loss : 0.5814897762794121\n",
      "validation loss : 0.5824560718793496\n",
      "Early stopping\n",
      "================================================================================\n",
      "Epoch 1/30\n",
      "train loss : 0.6281328876228893\n",
      "validation loss : 0.5841410697675219\n",
      "================================================================================\n",
      "Epoch 2/30\n",
      "train loss : 0.5898445257369209\n",
      "validation loss : 0.5772699275437523\n",
      "================================================================================\n",
      "Epoch 3/30\n",
      "train loss : 0.5893156395531168\n",
      "validation loss : 0.5727962121075275\n",
      "================================================================================\n",
      "Epoch 4/30\n",
      "train loss : 0.5868340064497555\n",
      "validation loss : 0.5744821134151197\n",
      "================================================================================\n",
      "Epoch 5/30\n",
      "train loss : 0.5873913558966973\n",
      "validation loss : 0.5719408682164024\n",
      "================================================================================\n",
      "Epoch 6/30\n",
      "train loss : 0.5862580932238523\n",
      "validation loss : 0.5730374458373761\n",
      "================================================================================\n",
      "Epoch 7/30\n",
      "train loss : 0.5858556368187362\n",
      "validation loss : 0.5730431763564839\n",
      "================================================================================\n",
      "Epoch 8/30\n",
      "train loss : 0.5858254843190605\n",
      "validation loss : 0.5728960583607355\n",
      "Early stopping\n"
     ]
    },
    {
     "name": "stderr",
     "output_type": "stream",
     "text": [
      "[I 2024-12-01 03:33:23,759] Trial 0 finished with value: 0.0 and parameters: {'lr': 0.00018643901634575818, 'weight_decay': 0.009544279055453107, 'dropout_1': 0.19047759743538803, 'dropout_2': 0.11487943748183711, 'dropout_3': 0.1337078147700846}. Best is trial 0 with value: 0.0.\n"
     ]
    },
    {
     "name": "stdout",
     "output_type": "stream",
     "text": [
      "================================================================================\n",
      "Epoch 1/30\n",
      "train loss : 0.6590668597057754\n",
      "validation loss : 0.6322784686789793\n",
      "================================================================================\n",
      "Epoch 2/30\n",
      "train loss : 0.6186413954870373\n",
      "validation loss : 0.6201978781644035\n",
      "================================================================================\n",
      "Epoch 3/30\n",
      "train loss : 0.6004879591511745\n",
      "validation loss : 0.6191699335388109\n",
      "================================================================================\n",
      "Epoch 4/30\n",
      "train loss : 0.5848835230458016\n",
      "validation loss : 0.6049170792102814\n",
      "================================================================================\n",
      "Epoch 5/30\n",
      "train loss : 0.5469527359978825\n",
      "validation loss : 0.8260184730969223\n",
      "================================================================================\n",
      "Epoch 6/30\n",
      "train loss : 0.5082509675446678\n",
      "validation loss : 0.5413166725752401\n",
      "================================================================================\n",
      "Epoch 7/30\n",
      "train loss : 0.47824019982534294\n",
      "validation loss : 0.6705848148056105\n",
      "================================================================================\n",
      "Epoch 8/30\n",
      "train loss : 0.45130788885495243\n",
      "validation loss : 0.6543665557515388\n",
      "================================================================================\n",
      "Epoch 9/30\n",
      "train loss : 0.42227785917473776\n",
      "validation loss : 0.6825293916113236\n",
      "================================================================================\n",
      "Epoch 10/30\n",
      "train loss : 0.3974409797320179\n",
      "validation loss : 0.6954687635103861\n",
      "================================================================================\n",
      "Epoch 11/30\n",
      "train loss : 0.37222850556467096\n",
      "validation loss : 0.5404422248111052\n",
      "Early stopping\n",
      "================================================================================\n",
      "Epoch 1/30\n",
      "train loss : 0.67369590465929\n",
      "validation loss : 0.6599370428160125\n",
      "================================================================================\n",
      "Epoch 2/30\n",
      "train loss : 0.619451539773567\n",
      "validation loss : 0.6257975890355951\n",
      "================================================================================\n",
      "Epoch 3/30\n",
      "train loss : 0.5999033047872431\n",
      "validation loss : 0.6031374516440373\n",
      "================================================================================\n",
      "Epoch 4/30\n",
      "train loss : 0.5943324127618004\n",
      "validation loss : 0.6034140183645136\n",
      "================================================================================\n",
      "Epoch 5/30\n",
      "train loss : 0.589834019103471\n",
      "validation loss : 0.5965852404341978\n",
      "================================================================================\n",
      "Epoch 6/30\n",
      "train loss : 0.5906650838898677\n",
      "validation loss : 0.5879045391783995\n",
      "================================================================================\n",
      "Epoch 7/30\n",
      "train loss : 0.5896613150835037\n",
      "validation loss : 0.5889039372696596\n",
      "================================================================================\n",
      "Epoch 8/30\n",
      "train loss : 0.5919148079028317\n",
      "validation loss : 0.5901752155201108\n",
      "================================================================================\n",
      "Epoch 9/30\n",
      "train loss : 0.5866221180733513\n",
      "validation loss : 0.5882275589540893\n",
      "================================================================================\n",
      "Epoch 10/30\n",
      "train loss : 0.5869994525815926\n",
      "validation loss : 0.5884864751030418\n",
      "================================================================================\n",
      "Epoch 11/30\n",
      "train loss : 0.589223190557723\n",
      "validation loss : 0.5912682098500869\n",
      "Early stopping\n",
      "================================================================================\n",
      "Epoch 1/30\n",
      "train loss : 0.6767829487136766\n",
      "validation loss : 0.6288952745643317\n",
      "================================================================================\n",
      "Epoch 2/30\n",
      "train loss : 0.6262449218946344\n",
      "validation loss : 0.6274413098307217\n",
      "================================================================================\n",
      "Epoch 3/30\n",
      "train loss : 0.6084800529129365\n",
      "validation loss : 0.5931233927315357\n",
      "================================================================================\n",
      "Epoch 4/30\n",
      "train loss : 0.6004532917457468\n",
      "validation loss : 0.5943214788156397\n",
      "================================================================================\n",
      "Epoch 5/30\n",
      "train loss : 0.5979101713381562\n",
      "validation loss : 0.5826143336062338\n",
      "================================================================================\n",
      "Epoch 6/30\n",
      "train loss : 0.598085373201791\n",
      "validation loss : 0.5803980821487951\n",
      "================================================================================\n",
      "Epoch 7/30\n",
      "train loss : 0.5947603513212765\n",
      "validation loss : 0.5812065484477025\n",
      "================================================================================\n",
      "Epoch 8/30\n",
      "train loss : 0.5939954961923992\n",
      "validation loss : 0.5798630276147057\n",
      "================================================================================\n",
      "Epoch 9/30\n",
      "train loss : 0.593580772625465\n",
      "validation loss : 0.576885893648746\n",
      "================================================================================\n",
      "Epoch 10/30\n",
      "train loss : 0.5909107989248108\n",
      "validation loss : 0.5790795613737667\n",
      "Early stopping\n"
     ]
    },
    {
     "name": "stderr",
     "output_type": "stream",
     "text": [
      "[I 2024-12-01 03:57:16,598] Trial 1 finished with value: 0.1710113875332302 and parameters: {'lr': 4.3826098711172886e-05, 'weight_decay': 0.006039735374375998, 'dropout_1': 0.29156578140066963, 'dropout_2': 0.2557204927961215, 'dropout_3': 0.3206057705122194}. Best is trial 1 with value: 0.1710113875332302.\n"
     ]
    },
    {
     "name": "stdout",
     "output_type": "stream",
     "text": [
      "================================================================================\n",
      "Epoch 1/30\n",
      "train loss : 0.6011714615366038\n",
      "validation loss : 0.5852077381283629\n",
      "================================================================================\n",
      "Epoch 2/30\n",
      "train loss : 0.5896043000268001\n",
      "validation loss : 0.576549262977114\n",
      "================================================================================\n",
      "Epoch 3/30\n",
      "train loss : 0.5848937879006068\n",
      "validation loss : 0.577551884394066\n",
      "================================================================================\n",
      "Epoch 4/30\n",
      "train loss : 0.5843968651458329\n",
      "validation loss : 0.5768693177139058\n",
      "================================================================================\n",
      "Epoch 5/30\n",
      "train loss : 0.5824480546163577\n",
      "validation loss : 0.5780904818983639\n",
      "================================================================================\n",
      "Epoch 6/30\n",
      "train loss : 0.5825017304981456\n",
      "validation loss : 0.5783520413964403\n",
      "Early stopping\n",
      "================================================================================\n",
      "Epoch 1/30\n",
      "train loss : 0.6058529909042751\n",
      "validation loss : 0.5829844842938816\n",
      "================================================================================\n",
      "Epoch 2/30\n",
      "train loss : 0.5850098968720904\n",
      "validation loss : 0.588293703455551\n",
      "================================================================================\n",
      "Epoch 3/30\n",
      "train loss : 0.5842071309977886\n",
      "validation loss : 0.5821890892351375\n",
      "================================================================================\n",
      "Epoch 4/30\n",
      "train loss : 0.5812170581490386\n",
      "validation loss : 0.5833140944733339\n",
      "================================================================================\n",
      "Epoch 5/30\n",
      "train loss : 0.579983057344661\n",
      "validation loss : 0.5846421779955134\n",
      "================================================================================\n",
      "Epoch 6/30\n",
      "train loss : 0.5796803015412069\n",
      "validation loss : 0.5836270343439252\n",
      "Early stopping\n",
      "================================================================================\n",
      "Epoch 1/30\n",
      "train loss : 0.6158097754506504\n",
      "validation loss : 0.5743917451769698\n",
      "================================================================================\n",
      "Epoch 2/30\n",
      "train loss : 0.5897393793452019\n",
      "validation loss : 0.5728098452091217\n",
      "================================================================================\n",
      "Epoch 3/30\n",
      "train loss : 0.5851688924081185\n",
      "validation loss : 0.5728678630263198\n",
      "Early stopping\n"
     ]
    },
    {
     "name": "stderr",
     "output_type": "stream",
     "text": [
      "[I 2024-12-01 04:10:36,529] Trial 2 finished with value: 0.0 and parameters: {'lr': 0.0005854825186731833, 'weight_decay': 0.008878783604179314, 'dropout_1': 0.19339862932291083, 'dropout_2': 0.15257078028351395, 'dropout_3': 0.21138672874224018}. Best is trial 1 with value: 0.1710113875332302.\n"
     ]
    },
    {
     "name": "stdout",
     "output_type": "stream",
     "text": [
      "================================================================================\n",
      "Epoch 1/30\n",
      "train loss : 0.6005833743541849\n",
      "validation loss : 0.579982637482531\n",
      "================================================================================\n",
      "Epoch 2/30\n",
      "train loss : 0.5866054918836144\n",
      "validation loss : 0.576593846374867\n",
      "================================================================================\n",
      "Epoch 3/30\n",
      "train loss : 0.5833319653482998\n",
      "validation loss : 0.5880892168657452\n",
      "================================================================================\n",
      "Epoch 4/30\n",
      "train loss : 0.5830729105601123\n",
      "validation loss : 0.5788923978221183\n",
      "================================================================================\n",
      "Epoch 5/30\n",
      "train loss : 0.5824664877910241\n",
      "validation loss : 0.576775936811578\n",
      "================================================================================\n",
      "Epoch 6/30\n",
      "train loss : 0.5802584668877078\n",
      "validation loss : 0.5767118667854982\n",
      "Early stopping\n",
      "================================================================================\n",
      "Epoch 1/30\n",
      "train loss : 0.5998643920117733\n",
      "validation loss : 0.5915338706736472\n",
      "================================================================================\n",
      "Epoch 2/30\n",
      "train loss : 0.5846477032584303\n",
      "validation loss : 0.5832494053186155\n",
      "================================================================================\n",
      "Epoch 3/30\n",
      "train loss : 0.5806015994326741\n",
      "validation loss : 0.5999705379500109\n",
      "================================================================================\n",
      "Epoch 4/30\n",
      "train loss : 0.5792633495202252\n",
      "validation loss : 0.5867185995859259\n",
      "================================================================================\n",
      "Epoch 5/30\n",
      "train loss : 0.5770764700045773\n",
      "validation loss : 0.5849689581230575\n",
      "================================================================================\n",
      "Epoch 6/30\n",
      "train loss : 0.5777831755432428\n",
      "validation loss : 0.5840626604416791\n",
      "Early stopping\n",
      "================================================================================\n",
      "Epoch 1/30\n",
      "train loss : 0.6121902258372774\n",
      "validation loss : 0.5769805519604215\n",
      "================================================================================\n",
      "Epoch 2/30\n",
      "train loss : 0.5914741982431972\n",
      "validation loss : 0.575725301808002\n",
      "================================================================================\n",
      "Epoch 3/30\n",
      "train loss : 0.5856433095885258\n",
      "validation loss : 0.5749755022572536\n",
      "================================================================================\n",
      "Epoch 4/30\n",
      "train loss : 0.5856122555685979\n",
      "validation loss : 0.5760310613641552\n",
      "================================================================================\n",
      "Epoch 5/30\n",
      "train loss : 0.584799178967289\n",
      "validation loss : 0.5763660309945836\n",
      "================================================================================\n",
      "Epoch 6/30\n",
      "train loss : 0.5822820954170882\n",
      "validation loss : 0.5734881977824604\n",
      "Early stopping\n"
     ]
    },
    {
     "name": "stderr",
     "output_type": "stream",
     "text": [
      "[I 2024-12-01 04:23:54,548] Trial 3 finished with value: 0.0 and parameters: {'lr': 0.0008374734593366992, 'weight_decay': 0.004921939258315992, 'dropout_1': 0.12198074858962396, 'dropout_2': 0.196882575832288, 'dropout_3': 0.14666580364954018}. Best is trial 1 with value: 0.1710113875332302.\n"
     ]
    },
    {
     "name": "stdout",
     "output_type": "stream",
     "text": [
      "================================================================================\n",
      "Epoch 1/30\n",
      "train loss : 0.6350563253257789\n",
      "validation loss : 0.6197703667715484\n",
      "================================================================================\n",
      "Epoch 2/30\n",
      "train loss : 0.5900199774141405\n",
      "validation loss : 0.5977709211555182\n",
      "================================================================================\n",
      "Epoch 3/30\n",
      "train loss : 0.5880346751096202\n",
      "validation loss : 0.6002250529971778\n",
      "================================================================================\n",
      "Epoch 4/30\n",
      "train loss : 0.5842269025012559\n",
      "validation loss : 0.5882041781556373\n",
      "================================================================================\n",
      "Epoch 5/30\n",
      "train loss : 0.5843306427784994\n",
      "validation loss : 0.5809959243325626\n",
      "================================================================================\n",
      "Epoch 6/30\n",
      "train loss : 0.5842054461439451\n",
      "validation loss : 0.577803738561331\n",
      "================================================================================\n",
      "Epoch 7/30\n",
      "train loss : 0.5826771335274565\n",
      "validation loss : 0.5772540756300384\n",
      "================================================================================\n",
      "Epoch 8/30\n",
      "train loss : 0.5831052203680954\n",
      "validation loss : 0.5800050117221534\n",
      "================================================================================\n",
      "Epoch 9/30\n",
      "train loss : 0.5828011792664435\n",
      "validation loss : 0.5773368962839538\n",
      "================================================================================\n",
      "Epoch 10/30\n",
      "train loss : 0.5821971514937925\n",
      "validation loss : 0.576483953817218\n",
      "Early stopping\n",
      "================================================================================\n",
      "Epoch 1/30\n",
      "train loss : 0.6239535931278678\n",
      "validation loss : 0.6082147254663355\n",
      "================================================================================\n",
      "Epoch 2/30\n",
      "train loss : 0.5866135922717113\n",
      "validation loss : 0.5928254267748665\n",
      "================================================================================\n",
      "Epoch 3/30\n",
      "train loss : 0.5838255270146856\n",
      "validation loss : 0.5847612718741099\n",
      "================================================================================\n",
      "Epoch 4/30\n",
      "train loss : 0.5860450000447386\n",
      "validation loss : 0.5846490468464646\n",
      "================================================================================\n",
      "Epoch 5/30\n",
      "train loss : 0.5815658510900011\n",
      "validation loss : 0.5826141311257493\n",
      "================================================================================\n",
      "Epoch 6/30\n",
      "train loss : 0.5808813323577245\n",
      "validation loss : 0.5836648561206519\n",
      "================================================================================\n",
      "Epoch 7/30\n",
      "train loss : 0.5825637181599935\n",
      "validation loss : 0.5820987662848305\n",
      "================================================================================\n",
      "Epoch 8/30\n",
      "train loss : 0.5802854634090966\n",
      "validation loss : 0.5837946353005428\n",
      "================================================================================\n",
      "Epoch 9/30\n",
      "train loss : 0.5805746351971346\n",
      "validation loss : 0.5826828374582178\n",
      "================================================================================\n",
      "Epoch 10/30\n",
      "train loss : 0.5779205455499536\n",
      "validation loss : 0.582939520186069\n",
      "Early stopping\n",
      "================================================================================\n",
      "Epoch 1/30\n",
      "train loss : 0.6262222762201347\n",
      "validation loss : 0.6000903669525596\n",
      "================================================================================\n",
      "Epoch 2/30\n",
      "train loss : 0.5920793744278889\n",
      "validation loss : 0.5916910995455349\n",
      "================================================================================\n",
      "Epoch 3/30\n",
      "train loss : 0.5910623092569557\n",
      "validation loss : 0.5785836203425538\n",
      "================================================================================\n",
      "Epoch 4/30\n",
      "train loss : 0.5901349689446244\n",
      "validation loss : 0.5758450110169018\n",
      "================================================================================\n",
      "Epoch 5/30\n",
      "train loss : 0.588059611472429\n",
      "validation loss : 0.5800226313226363\n",
      "================================================================================\n",
      "Epoch 6/30\n",
      "train loss : 0.5876378942938412\n",
      "validation loss : 0.5752571207635543\n",
      "================================================================================\n",
      "Epoch 7/30\n",
      "train loss : 0.5861506955880745\n",
      "validation loss : 0.5721137579165253\n",
      "================================================================================\n",
      "Epoch 8/30\n",
      "train loss : 0.5850449594504693\n",
      "validation loss : 0.5735924845817042\n",
      "Early stopping\n"
     ]
    },
    {
     "name": "stderr",
     "output_type": "stream",
     "text": [
      "[I 2024-12-01 04:44:28,782] Trial 4 finished with value: 0.0 and parameters: {'lr': 0.00018815961960099613, 'weight_decay': 0.005087025577508707, 'dropout_1': 0.4829355323587313, 'dropout_2': 0.49303912714929665, 'dropout_3': 0.15189029157299572}. Best is trial 1 with value: 0.1710113875332302.\n"
     ]
    },
    {
     "name": "stdout",
     "output_type": "stream",
     "text": [
      "================================================================================\n",
      "Epoch 1/30\n",
      "train loss : 0.6040904197622748\n",
      "validation loss : 0.5806845449933818\n",
      "================================================================================\n",
      "Epoch 2/30\n",
      "train loss : 0.5855826386341861\n",
      "validation loss : 0.5802566677916283\n",
      "================================================================================\n",
      "Epoch 3/30\n",
      "train loss : 0.5836057040621253\n",
      "validation loss : 0.6027562501383763\n",
      "================================================================================\n",
      "Epoch 4/30\n",
      "train loss : 0.5832806264652926\n",
      "validation loss : 0.5785113912002713\n",
      "================================================================================\n",
      "Epoch 5/30\n",
      "train loss : 0.5806878765716272\n",
      "validation loss : 0.5783851362910926\n",
      "================================================================================\n",
      "Epoch 6/30\n",
      "train loss : 0.5818389810475648\n",
      "validation loss : 0.5809650234147614\n",
      "Early stopping\n",
      "================================================================================\n",
      "Epoch 1/30\n",
      "train loss : 0.6053838667039778\n",
      "validation loss : 0.5875837697702295\n",
      "================================================================================\n",
      "Epoch 2/30\n",
      "train loss : 0.5845629241244465\n",
      "validation loss : 0.5928855444870743\n",
      "================================================================================\n",
      "Epoch 3/30\n",
      "train loss : 0.5810642037905899\n",
      "validation loss : 0.5861670053472706\n",
      "================================================================================\n",
      "Epoch 4/30\n",
      "train loss : 0.5799461091850319\n",
      "validation loss : 0.5852763696628458\n",
      "================================================================================\n",
      "Epoch 5/30\n",
      "train loss : 0.5804480103885427\n",
      "validation loss : 0.5955291840375638\n",
      "================================================================================\n",
      "Epoch 6/30\n",
      "train loss : 0.5783055734400656\n",
      "validation loss : 0.5873109560971167\n",
      "Early stopping\n",
      "================================================================================\n",
      "Epoch 1/30\n",
      "train loss : 0.6104280717817008\n",
      "validation loss : 0.5833714493349487\n",
      "================================================================================\n",
      "Epoch 2/30\n",
      "train loss : 0.5894118683303103\n",
      "validation loss : 0.5735880478340036\n",
      "================================================================================\n",
      "Epoch 3/30\n",
      "train loss : 0.5881562599656629\n",
      "validation loss : 0.5723132830040127\n",
      "================================================================================\n",
      "Epoch 4/30\n",
      "train loss : 0.5861692422745275\n",
      "validation loss : 0.5721793019888448\n",
      "================================================================================\n",
      "Epoch 5/30\n",
      "train loss : 0.5836882933097727\n",
      "validation loss : 0.5725960243566364\n",
      "================================================================================\n",
      "Epoch 6/30\n",
      "train loss : 0.5841867060345762\n",
      "validation loss : 0.5717262599398109\n",
      "================================================================================\n",
      "Epoch 7/30\n",
      "train loss : 0.5825883924376731\n",
      "validation loss : 0.572859418742797\n",
      "================================================================================\n",
      "Epoch 8/30\n",
      "train loss : 0.5826565334025551\n",
      "validation loss : 0.5715634852063423\n",
      "Early stopping\n"
     ]
    },
    {
     "name": "stderr",
     "output_type": "stream",
     "text": [
      "[I 2024-12-01 04:59:14,138] Trial 5 finished with value: 0.0 and parameters: {'lr': 0.0006150860448615532, 'weight_decay': 0.006274582186478437, 'dropout_1': 0.2098959310681844, 'dropout_2': 0.1168771733802616, 'dropout_3': 0.10093885554564297}. Best is trial 1 with value: 0.1710113875332302.\n"
     ]
    },
    {
     "name": "stdout",
     "output_type": "stream",
     "text": [
      "================================================================================\n",
      "Epoch 1/30\n",
      "train loss : 0.5999978934140766\n",
      "validation loss : 0.5830757115401474\n",
      "================================================================================\n",
      "Epoch 2/30\n",
      "train loss : 0.5872442099977943\n",
      "validation loss : 0.5797965777855293\n",
      "================================================================================\n",
      "Epoch 3/30\n",
      "train loss : 0.5841697423773653\n",
      "validation loss : 0.5773811267287123\n",
      "================================================================================\n",
      "Epoch 4/30\n",
      "train loss : 0.5839425369220621\n",
      "validation loss : 0.5772372548486672\n",
      "================================================================================\n",
      "Epoch 5/30\n",
      "train loss : 0.5829130250449274\n",
      "validation loss : 0.5763731423546287\n",
      "================================================================================\n",
      "Epoch 6/30\n",
      "train loss : 0.5824537963843813\n",
      "validation loss : 0.5778067550238442\n",
      "Early stopping\n",
      "================================================================================\n",
      "Epoch 1/30\n",
      "train loss : 0.604627324523879\n",
      "validation loss : 0.5862911057238486\n",
      "================================================================================\n",
      "Epoch 2/30\n",
      "train loss : 0.5854701954944461\n",
      "validation loss : 0.5857912816253363\n",
      "================================================================================\n",
      "Epoch 3/30\n",
      "train loss : 0.5801447134684113\n",
      "validation loss : 0.5831452993785634\n",
      "================================================================================\n",
      "Epoch 4/30\n",
      "train loss : 0.5807284330036125\n",
      "validation loss : 0.5881082859693789\n",
      "================================================================================\n",
      "Epoch 5/30\n",
      "train loss : 0.5787818161588089\n",
      "validation loss : 0.5882613346272824\n",
      "================================================================================\n",
      "Epoch 6/30\n",
      "train loss : 0.5780723541975021\n",
      "validation loss : 0.5824235356321522\n",
      "Early stopping\n",
      "================================================================================\n",
      "Epoch 1/30\n",
      "train loss : 0.6105602351473827\n",
      "validation loss : 0.5787703552666832\n",
      "================================================================================\n",
      "Epoch 2/30\n",
      "train loss : 0.5902623242022944\n",
      "validation loss : 0.5733992147679422\n",
      "================================================================================\n",
      "Epoch 3/30\n",
      "train loss : 0.5875776842528698\n",
      "validation loss : 0.5792200319907245\n",
      "================================================================================\n",
      "Epoch 4/30\n",
      "train loss : 0.5856235112045326\n",
      "validation loss : 0.5764758963795269\n",
      "================================================================================\n",
      "Epoch 5/30\n",
      "train loss : 0.5846450717425814\n",
      "validation loss : 0.5812093837588441\n",
      "================================================================================\n",
      "Epoch 6/30\n",
      "train loss : 0.5824671346767276\n",
      "validation loss : 0.5730457051711924\n",
      "Early stopping\n"
     ]
    },
    {
     "name": "stderr",
     "output_type": "stream",
     "text": [
      "[I 2024-12-01 05:12:30,393] Trial 6 finished with value: 0.0 and parameters: {'lr': 0.0008514778088264743, 'weight_decay': 0.001329002581312112, 'dropout_1': 0.15260461245118778, 'dropout_2': 0.38030240233241264, 'dropout_3': 0.1933163164394579}. Best is trial 1 with value: 0.1710113875332302.\n"
     ]
    }
   ],
   "source": [
    "import optuna\n",
    "from sklearn.model_selection import KFold\n",
    "from torch.utils.data import Subset\n",
    "\n",
    "def reset_parameters(module):\n",
    "    if hasattr(module, \"reset_parameters\"):\n",
    "        module.reset_parameters()\n",
    "\n",
    "def prepare_model(dict_params):\n",
    "    model_trial =  BERTModel()\n",
    "    model_trial.to(device)\n",
    "\n",
    "    # Update the model dropout rates\n",
    "    model_trial.dropout1.p,model_trial.dropout2.p,model_trial.dropout3.p = dict_params['dropout']\n",
    "    \n",
    "    optimizer = torch.optim.AdamW(params=model_trial.parameters(), lr=dict_params['lr'], weight_decay=dict_params['weight_decay'])\n",
    "    scheduler = torch.optim.lr_scheduler.CosineAnnealingWarmRestarts(optimizer, T_0=6, T_mult=1)\n",
    "\n",
    "    return model_trial,optimizer,scheduler\n",
    "    \n",
    "   \n",
    "def objective(trial):\n",
    "    # The hyperparameter tuning is used to find optimal model parameter based on given parameter options including learning rare, weight decay,\n",
    "    # dropout rate. The process uses K-fold cross-validation on the training dataset to ensure the model generalizes well and performs consistently\n",
    "    learning_rate = trial.suggest_float(\"lr\", 1e-6, 1e-3)\n",
    "    weight_decay = trial.suggest_float(\"weight_decay\", 1e-6, 1e-2)\n",
    "    \n",
    "    dropout_rate_1 = trial.suggest_float(\"dropout_1\", 0.1, 0.5)\n",
    "    dropout_rate_2 = trial.suggest_float(\"dropout_2\", 0.1, 0.5)\n",
    "    dropout_rate_3 = trial.suggest_float(\"dropout_3\", 0.1, 0.5)\n",
    "\n",
    "    dict_params = {\n",
    "        'lr':learning_rate,\n",
    "        'weight_decay' : weight_decay,\n",
    "        'dropout':[dropout_rate_1,dropout_rate_2,dropout_rate_3]\n",
    "    }\n",
    "\n",
    "    model_trial,optimizer,scheduler = prepare_model(dict_params)\n",
    "\n",
    "    kf = KFold(n_splits=3, shuffle=True, random_state=42)\n",
    "\n",
    "    val_scores = []\n",
    "\n",
    "    for train_index, val_index in kf.split(train_data):\n",
    "        train_subset = bookDataset(train_data.iloc[train_index], tokenizer,max_length,cols_list)\n",
    "        val_subset = bookDataset(train_data.iloc[val_index], tokenizer,max_length,cols_list)\n",
    "        \n",
    "        train_loader = DataLoader(train_subset, batch_size = 32, shuffle = True,num_workers=4, pin_memory=True)\n",
    "        val_loader = DataLoader(val_subset, batch_size = 32, shuffle = False,num_workers=4, pin_memory=True)\n",
    "        early_stopping = EarlyStopping(patience=5, delta=0.01)\n",
    "        \n",
    "        model_props = {\n",
    "            'loader_list':[train_loader,val_loader],\n",
    "            'optimizer':optimizer,\n",
    "            'loss_fn':bce,\n",
    "            'scheduler':scheduler,\n",
    "            'early_stopping': early_stopping\n",
    "        }\n",
    "\n",
    "        model_trial.apply(reset_parameters)\n",
    "\n",
    "        histories, model_trial = fitting(model_trial,model_props,30)\n",
    "\n",
    "        score = get_eval_metrics(val_loader, model_trial)['f1-score']\n",
    "\n",
    "        val_scores.append(score)\n",
    "    \n",
    "    return sum(val_scores)/len(val_scores)\n",
    "    \n",
    "study = optuna.create_study(direction=\"maximize\")\n",
    "study.optimize(objective, n_trials=7)"
   ]
  },
  {
   "cell_type": "code",
   "execution_count": 17,
   "metadata": {
    "execution": {
     "iopub.execute_input": "2024-12-01T05:22:54.075863Z",
     "iopub.status.busy": "2024-12-01T05:22:54.075134Z",
     "iopub.status.idle": "2024-12-01T05:22:54.080764Z",
     "shell.execute_reply": "2024-12-01T05:22:54.079865Z",
     "shell.execute_reply.started": "2024-12-01T05:22:54.075830Z"
    },
    "trusted": true
   },
   "outputs": [
    {
     "name": "stdout",
     "output_type": "stream",
     "text": [
      "Best Parameters: {'lr': 4.3826098711172886e-05, 'weight_decay': 0.006039735374375998, 'dropout_1': 0.29156578140066963, 'dropout_2': 0.2557204927961215, 'dropout_3': 0.3206057705122194}\n",
      "Best F1-Score: 0.1710113875332302\n"
     ]
    }
   ],
   "source": [
    "# best hyperparameter model and F1 score\n",
    "print(\"Best Parameters:\", study.best_params)\n",
    "print(\"Best F1-Score:\", study.best_value)"
   ]
  },
  {
   "cell_type": "markdown",
   "metadata": {},
   "source": [
    "## Build Model 2"
   ]
  },
  {
   "cell_type": "code",
   "execution_count": 21,
   "metadata": {
    "execution": {
     "iopub.execute_input": "2024-12-01T05:25:22.164893Z",
     "iopub.status.busy": "2024-12-01T05:25:22.164518Z",
     "iopub.status.idle": "2024-12-01T05:25:22.464959Z",
     "shell.execute_reply": "2024-12-01T05:25:22.464003Z",
     "shell.execute_reply.started": "2024-12-01T05:25:22.164863Z"
    },
    "trusted": true
   },
   "outputs": [],
   "source": [
    "# build model using the best parameters on hyperparameter tuning\n",
    "best_params = study.best_params\n",
    "tuned_params = {\n",
    "    'lr':best_params['lr'],\n",
    "    'weight_decay' : best_params['weight_decay'],\n",
    "    'dropout':[best_params['dropout_1'],best_params['dropout_2'],best_params['dropout_3']]\n",
    "}\n",
    "\n",
    "tuned_model,tuned_optimizer,tuned_scheduler = prepare_model(tuned_params)"
   ]
  },
  {
   "cell_type": "code",
   "execution_count": 22,
   "metadata": {
    "execution": {
     "iopub.execute_input": "2024-12-01T05:26:58.632228Z",
     "iopub.status.busy": "2024-12-01T05:26:58.631862Z",
     "iopub.status.idle": "2024-12-01T05:33:27.331347Z",
     "shell.execute_reply": "2024-12-01T05:33:27.330201Z",
     "shell.execute_reply.started": "2024-12-01T05:26:58.632197Z"
    },
    "trusted": true
   },
   "outputs": [
    {
     "name": "stdout",
     "output_type": "stream",
     "text": [
      "================================================================================\n",
      "Epoch 1/30\n",
      "train loss : 0.5261273702637094\n",
      "validation loss : 0.41919466414872336\n",
      "================================================================================\n",
      "Epoch 2/30\n",
      "train loss : 0.37150643497216895\n",
      "validation loss : 0.3598088429254644\n",
      "================================================================================\n",
      "Epoch 3/30\n",
      "train loss : 0.2901826573199913\n",
      "validation loss : 0.3354518580086091\n",
      "================================================================================\n",
      "Epoch 4/30\n",
      "train loss : 0.22373335542248898\n",
      "validation loss : 0.3276001276338802\n",
      "================================================================================\n",
      "Epoch 5/30\n",
      "train loss : 0.17531057803845795\n",
      "validation loss : 0.3318660127765992\n",
      "================================================================================\n",
      "Epoch 6/30\n",
      "train loss : 0.1405209122378318\n",
      "validation loss : 0.335761902086875\n",
      "================================================================================\n",
      "Epoch 7/30\n",
      "train loss : 0.11842538929376446\n",
      "validation loss : 0.35299632303855\n",
      "================================================================================\n",
      "Epoch 8/30\n",
      "train loss : 0.0991568666989686\n",
      "validation loss : 0.36110607490820046\n",
      "Early stopping\n"
     ]
    }
   ],
   "source": [
    "# prepare data loader, optimizer, bce loss function, scheduler and early stopping for fitting model\n",
    "early_stopping_2= EarlyStopping(patience=5, delta=0.01)\n",
    "\n",
    "model_props_tuned = {\n",
    "    'loader_list':[train_dataLoader,validation_dataloader],\n",
    "    'optimizer':tuned_optimizer,\n",
    "    'loss_fn':bce,\n",
    "    'scheduler':tuned_scheduler,\n",
    "    'early_stopping': early_stopping_2\n",
    "}\n",
    "\n",
    "# fitting model\n",
    "histories_tuned , tuned_model = fitting(tuned_model,model_props_tuned, 30)"
   ]
  },
  {
   "cell_type": "markdown",
   "metadata": {},
   "source": [
    "## Model Evaluation \n",
    "\n",
    "### Model 2"
   ]
  },
  {
   "cell_type": "code",
   "execution_count": 25,
   "metadata": {
    "execution": {
     "iopub.execute_input": "2024-12-01T05:50:42.832475Z",
     "iopub.status.busy": "2024-12-01T05:50:42.831684Z",
     "iopub.status.idle": "2024-12-01T05:50:47.710396Z",
     "shell.execute_reply": "2024-12-01T05:50:47.709328Z",
     "shell.execute_reply.started": "2024-12-01T05:50:42.832435Z"
    },
    "trusted": true
   },
   "outputs": [
    {
     "name": "stdout",
     "output_type": "stream",
     "text": [
      "hamming-loss : 0.13118081180811808\n",
      "precision : 0.7521367521367521\n",
      "recall : 0.7441860465116279\n",
      "f1-score : 0.7481402763018066\n"
     ]
    }
   ],
   "source": [
    "val_eval_metrics_tuned = get_eval_metrics(validation_dataloader, tuned_model)\n",
    "\n",
    "for metrics in val_eval_metrics_tuned : \n",
    "    print(f'{metrics} : {val_eval_metrics_tuned[metrics]}')"
   ]
  },
  {
   "cell_type": "code",
   "execution_count": 26,
   "metadata": {
    "execution": {
     "iopub.execute_input": "2024-12-01T05:51:55.353864Z",
     "iopub.status.busy": "2024-12-01T05:51:55.352994Z",
     "iopub.status.idle": "2024-12-01T05:51:55.666982Z",
     "shell.execute_reply": "2024-12-01T05:51:55.666094Z",
     "shell.execute_reply.started": "2024-12-01T05:51:55.353824Z"
    },
    "trusted": true
   },
   "outputs": [
    {
     "data": {
      "text/plain": [
       "Text(0.5, 1.0, 'loss learning curve')"
      ]
     },
     "execution_count": 26,
     "metadata": {},
     "output_type": "execute_result"
    },
    {
     "data": {
      "image/png": "[encoded data removed]",
      "text/plain": [
       "<Figure size 640x480 with 1 Axes>"
      ]
     },
     "metadata": {},
     "output_type": "display_data"
    }
   ],
   "source": [
    "epochs = range(1,len(histories_tuned['train_loss']) + 1)\n",
    "plt.plot(epochs, histories_tuned['train_loss'], label = 'train loss')\n",
    "plt.plot(epochs, histories_tuned['val_loss'], label = 'validation loss')\n",
    "plt.legend()\n",
    "plt.ylabel('loss')\n",
    "plt.xlabel('epochs')\n",
    "plt.title('loss learning curve')"
   ]
  },
  {
   "cell_type": "code",
   "execution_count": null,
   "metadata": {
    "trusted": true
   },
   "outputs": [],
   "source": []
  }
 ],
 "metadata": {
  "kaggle": {
   "accelerator": "nvidiaTeslaT4",
   "dataSources": [],
   "dockerImageVersionId": 30786,
   "isGpuEnabled": true,
   "isInternetEnabled": true,
   "language": "python",
   "sourceType": "notebook"
  },
  "kernelspec": {
   "display_name": "Python 3",
   "language": "python",
   "name": "python3"
  },
  "language_info": {
   "codemirror_mode": {
    "name": "ipython",
    "version": 3
   },
   "file_extension": ".py",
   "mimetype": "text/x-python",
   "name": "python",
   "nbconvert_exporter": "python",
   "pygments_lexer": "ipython3",
   "version": "3.10.14"
  }
 },
 "nbformat": 4,
 "nbformat_minor": 4
}
